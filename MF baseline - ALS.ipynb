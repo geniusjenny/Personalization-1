{
 "cells": [
  {
   "cell_type": "code",
   "execution_count": 2,
   "metadata": {},
   "outputs": [],
   "source": [
    "import findspark\n",
    "findspark.init()\n",
    "from pyspark import SparkContext, SparkConf\n",
    "from pyspark.sql import SQLContext, SparkSession\n",
    "from pyspark.sql.functions import col\n",
    "from pyspark.ml.tuning import CrossValidator, ParamGridBuilder\n",
    "from pyspark.ml.evaluation import RegressionEvaluator\n",
    "from pyspark.ml.recommendation import ALS\n",
    "from pyspark.mllib.evaluation import RankingMetrics\n",
    "import plotly.express as px\n",
    "import random \n",
    "import time\n",
    "import pandas as pd\n",
    "import matplotlib.pyplot as plt\n",
    "from tqdm import tqdm\n",
    "import json\n",
    "\n",
    "# for NDCG\n",
    "from pyspark.sql import Window\n",
    "from pyspark.sql.functions import col\n",
    "from pyspark.sql.functions import expr\n",
    "import pyspark.sql.functions as F"
   ]
  },
  {
   "cell_type": "markdown",
   "metadata": {},
   "source": [
    "read ratings"
   ]
  },
  {
   "cell_type": "code",
   "execution_count": 4,
   "metadata": {},
   "outputs": [
    {
     "name": "stderr",
     "output_type": "stream",
     "text": [
      "100%|██████████| 6685900/6685900 [01:05<00:00, 102349.21it/s]\n"
     ]
    }
   ],
   "source": [
    "line_count = len(open(\"/Users/jessie/Desktop/Personalization/Project2/yelp_dataset/review.json\").readlines())\n",
    "user_ids, business_ids, stars, dates = [], [], [], []\n",
    "with open(\"/Users/jessie/Desktop/Personalization/Project2/yelp_dataset/review.json\") as f:\n",
    "    for line in tqdm(f, total=line_count):\n",
    "        blob = json.loads(line)\n",
    "        user_ids += [blob[\"user_id\"]]\n",
    "        business_ids += [blob[\"business_id\"]]\n",
    "        stars += [blob[\"stars\"]]\n",
    "        dates += [blob[\"date\"]]\n",
    "ratings = pd.DataFrame(\n",
    "{\"user_id\": user_ids, \"business_id\": business_ids, \"rating\": stars, \"date\": dates}\n",
    ")"
   ]
  },
  {
   "cell_type": "code",
   "execution_count": 5,
   "metadata": {
    "scrolled": true
   },
   "outputs": [
    {
     "data": {
      "text/html": [
       "<div>\n",
       "<style scoped>\n",
       "    .dataframe tbody tr th:only-of-type {\n",
       "        vertical-align: middle;\n",
       "    }\n",
       "\n",
       "    .dataframe tbody tr th {\n",
       "        vertical-align: top;\n",
       "    }\n",
       "\n",
       "    .dataframe thead th {\n",
       "        text-align: right;\n",
       "    }\n",
       "</style>\n",
       "<table border=\"1\" class=\"dataframe\">\n",
       "  <thead>\n",
       "    <tr style=\"text-align: right;\">\n",
       "      <th></th>\n",
       "      <th>user_id</th>\n",
       "      <th>business_id</th>\n",
       "      <th>rating</th>\n",
       "      <th>date</th>\n",
       "    </tr>\n",
       "  </thead>\n",
       "  <tbody>\n",
       "    <tr>\n",
       "      <th>0</th>\n",
       "      <td>hG7b0MtEbXx5QzbzE6C_VA</td>\n",
       "      <td>ujmEBvifdJM6h6RLv4wQIg</td>\n",
       "      <td>1.0</td>\n",
       "      <td>2013-05-07 04:34:36</td>\n",
       "    </tr>\n",
       "    <tr>\n",
       "      <th>1</th>\n",
       "      <td>yXQM5uF2jS6es16SJzNHfg</td>\n",
       "      <td>NZnhc2sEQy3RmzKTZnqtwQ</td>\n",
       "      <td>5.0</td>\n",
       "      <td>2017-01-14 21:30:33</td>\n",
       "    </tr>\n",
       "    <tr>\n",
       "      <th>2</th>\n",
       "      <td>n6-Gk65cPZL6Uz8qRm3NYw</td>\n",
       "      <td>WTqjgwHlXbSFevF32_DJVw</td>\n",
       "      <td>5.0</td>\n",
       "      <td>2016-11-09 20:09:03</td>\n",
       "    </tr>\n",
       "    <tr>\n",
       "      <th>3</th>\n",
       "      <td>dacAIZ6fTM6mqwW5uxkskg</td>\n",
       "      <td>ikCg8xy5JIg_NGPx-MSIDA</td>\n",
       "      <td>5.0</td>\n",
       "      <td>2018-01-09 20:56:38</td>\n",
       "    </tr>\n",
       "    <tr>\n",
       "      <th>4</th>\n",
       "      <td>ssoyf2_x0EQMed6fgHeMyQ</td>\n",
       "      <td>b1b1eb3uo-w561D0ZfCEiQ</td>\n",
       "      <td>1.0</td>\n",
       "      <td>2018-01-30 23:07:38</td>\n",
       "    </tr>\n",
       "  </tbody>\n",
       "</table>\n",
       "</div>"
      ],
      "text/plain": [
       "                  user_id             business_id  rating                 date\n",
       "0  hG7b0MtEbXx5QzbzE6C_VA  ujmEBvifdJM6h6RLv4wQIg     1.0  2013-05-07 04:34:36\n",
       "1  yXQM5uF2jS6es16SJzNHfg  NZnhc2sEQy3RmzKTZnqtwQ     5.0  2017-01-14 21:30:33\n",
       "2  n6-Gk65cPZL6Uz8qRm3NYw  WTqjgwHlXbSFevF32_DJVw     5.0  2016-11-09 20:09:03\n",
       "3  dacAIZ6fTM6mqwW5uxkskg  ikCg8xy5JIg_NGPx-MSIDA     5.0  2018-01-09 20:56:38\n",
       "4  ssoyf2_x0EQMed6fgHeMyQ  b1b1eb3uo-w561D0ZfCEiQ     1.0  2018-01-30 23:07:38"
      ]
     },
     "execution_count": 5,
     "metadata": {},
     "output_type": "execute_result"
    }
   ],
   "source": [
    "# save and load the dataframe\n",
    "#ratings.to_pickle('ratings.pkl')\n",
    "ratings = pd.read_pickle('ratings.pkl')\n",
    "ratings.head()"
   ]
  },
  {
   "cell_type": "markdown",
   "metadata": {},
   "source": [
    "read business"
   ]
  },
  {
   "cell_type": "code",
   "execution_count": null,
   "metadata": {},
   "outputs": [],
   "source": [
    "line_count = len(open(\"/Users/jessie/Desktop/Personalization/Project2/yelp_dataset/business.json\").readlines())\n",
    "business_ids, names, addresses, cities, states, postal_codes, latitudes, longitudes, stars, review_counts,\\\n",
    "is_open, attributes, categories, hours = [],[],[],[],[],[],[],[],[],[],[],[],[],[]\n",
    "with open(\"/Users/jessie/Desktop/Personalization/Project2/yelp_dataset/business.json\") as f:\n",
    "    for line in tqdm(f, total=line_count):\n",
    "        blob = json.loads(line)\n",
    "        business_ids += [blob[\"business_id\"]]\n",
    "        names += [blob[\"name\"]]\n",
    "        addresses += [blob[\"address\"]]\n",
    "        cities += [blob[\"city\"]]\n",
    "        states += [blob[\"state\"]]\n",
    "        postal_codes += [blob[\"postal_code\"]]\n",
    "        latitudes += [blob[\"latitude\"]]\n",
    "        longitudes += [blob[\"longitude\"]]\n",
    "        stars += [blob[\"stars\"]]\n",
    "        review_counts += [blob[\"review_count\"]]\n",
    "        is_open += [blob[\"is_open\"]]\n",
    "        attributes += [blob[\"attributes\"]]\n",
    "        categories += [blob[\"categories\"]]\n",
    "        hours += [blob[\"hours\"]]\n",
    "        \n",
    "business = pd.DataFrame(\n",
    "{\"business_id\": business_ids, \"name\": names, \"address\": addresses, \"city\": cities, \"state\": states, \\\n",
    "\"postal_code\": postal_codes, \"latitude\": latitudes, \"longitude\": longitudes, \"stars\":stars, \\\n",
    "\"review_count\":review_counts, \"is_open\":is_open, \"attributes\":attributes, \"categories\":categories, \"hours\":hours}\n",
    ")"
   ]
  },
  {
   "cell_type": "code",
   "execution_count": null,
   "metadata": {
    "scrolled": true
   },
   "outputs": [],
   "source": [
    "business.head()"
   ]
  },
  {
   "cell_type": "code",
   "execution_count": 4,
   "metadata": {},
   "outputs": [],
   "source": [
    "# add integer user ID and item ID, ALS can only read interger user ID and item ID\n",
    "ratings_1=ratings\n",
    "ratings_1['user_code'] = ratings_1.user_id.astype('category').cat.codes\n",
    "ratings_1['item_code'] = ratings_1.business_id.astype('category').cat.codes\n",
    "\n",
    "# create diectionary (mapping)\n",
    "user_dict = dict(zip(ratings_1.user_code, ratings_1.user_id))\n",
    "item_dict = dict(zip(ratings_1.item_code, ratings_1.business_id))"
   ]
  },
  {
   "cell_type": "code",
   "execution_count": 6,
   "metadata": {},
   "outputs": [
    {
     "data": {
      "text/html": [
       "<div>\n",
       "<style scoped>\n",
       "    .dataframe tbody tr th:only-of-type {\n",
       "        vertical-align: middle;\n",
       "    }\n",
       "\n",
       "    .dataframe tbody tr th {\n",
       "        vertical-align: top;\n",
       "    }\n",
       "\n",
       "    .dataframe thead th {\n",
       "        text-align: right;\n",
       "    }\n",
       "</style>\n",
       "<table border=\"1\" class=\"dataframe\">\n",
       "  <thead>\n",
       "    <tr style=\"text-align: right;\">\n",
       "      <th></th>\n",
       "      <th>user_id</th>\n",
       "      <th>business_id</th>\n",
       "      <th>rating</th>\n",
       "      <th>date</th>\n",
       "      <th>user_code</th>\n",
       "      <th>item_code</th>\n",
       "    </tr>\n",
       "  </thead>\n",
       "  <tbody>\n",
       "    <tr>\n",
       "      <th>0</th>\n",
       "      <td>hG7b0MtEbXx5QzbzE6C_VA</td>\n",
       "      <td>ujmEBvifdJM6h6RLv4wQIg</td>\n",
       "      <td>1.0</td>\n",
       "      <td>2013-05-07 04:34:36</td>\n",
       "      <td>1158189</td>\n",
       "      <td>176747</td>\n",
       "    </tr>\n",
       "    <tr>\n",
       "      <th>1</th>\n",
       "      <td>yXQM5uF2jS6es16SJzNHfg</td>\n",
       "      <td>NZnhc2sEQy3RmzKTZnqtwQ</td>\n",
       "      <td>5.0</td>\n",
       "      <td>2017-01-14 21:30:33</td>\n",
       "      <td>1599679</td>\n",
       "      <td>74082</td>\n",
       "    </tr>\n",
       "    <tr>\n",
       "      <th>2</th>\n",
       "      <td>n6-Gk65cPZL6Uz8qRm3NYw</td>\n",
       "      <td>WTqjgwHlXbSFevF32_DJVw</td>\n",
       "      <td>5.0</td>\n",
       "      <td>2016-11-09 20:09:03</td>\n",
       "      <td>1307908</td>\n",
       "      <td>100925</td>\n",
       "    </tr>\n",
       "    <tr>\n",
       "      <th>3</th>\n",
       "      <td>dacAIZ6fTM6mqwW5uxkskg</td>\n",
       "      <td>ikCg8xy5JIg_NGPx-MSIDA</td>\n",
       "      <td>5.0</td>\n",
       "      <td>2018-01-09 20:56:38</td>\n",
       "      <td>1064624</td>\n",
       "      <td>140760</td>\n",
       "    </tr>\n",
       "    <tr>\n",
       "      <th>4</th>\n",
       "      <td>ssoyf2_x0EQMed6fgHeMyQ</td>\n",
       "      <td>b1b1eb3uo-w561D0ZfCEiQ</td>\n",
       "      <td>1.0</td>\n",
       "      <td>2018-01-30 23:07:38</td>\n",
       "      <td>1455311</td>\n",
       "      <td>117663</td>\n",
       "    </tr>\n",
       "  </tbody>\n",
       "</table>\n",
       "</div>"
      ],
      "text/plain": [
       "                  user_id             business_id  rating  \\\n",
       "0  hG7b0MtEbXx5QzbzE6C_VA  ujmEBvifdJM6h6RLv4wQIg     1.0   \n",
       "1  yXQM5uF2jS6es16SJzNHfg  NZnhc2sEQy3RmzKTZnqtwQ     5.0   \n",
       "2  n6-Gk65cPZL6Uz8qRm3NYw  WTqjgwHlXbSFevF32_DJVw     5.0   \n",
       "3  dacAIZ6fTM6mqwW5uxkskg  ikCg8xy5JIg_NGPx-MSIDA     5.0   \n",
       "4  ssoyf2_x0EQMed6fgHeMyQ  b1b1eb3uo-w561D0ZfCEiQ     1.0   \n",
       "\n",
       "                  date  user_code  item_code  \n",
       "0  2013-05-07 04:34:36    1158189     176747  \n",
       "1  2017-01-14 21:30:33    1599679      74082  \n",
       "2  2016-11-09 20:09:03    1307908     100925  \n",
       "3  2018-01-09 20:56:38    1064624     140760  \n",
       "4  2018-01-30 23:07:38    1455311     117663  "
      ]
     },
     "execution_count": 6,
     "metadata": {},
     "output_type": "execute_result"
    }
   ],
   "source": [
    "ratings_1.head()"
   ]
  },
  {
   "cell_type": "code",
   "execution_count": 7,
   "metadata": {},
   "outputs": [],
   "source": [
    "# select active users\n",
    "# select the id of active users\n",
    "user_counts = ratings[\"user_id\"].value_counts()\n",
    "active_users = user_counts.loc[user_counts >= 5].index.tolist()\n",
    "active_ratings=ratings_1.loc[ratings_1['user_id'].isin(active_users)].sort_values(by=['user_id', 'date'])"
   ]
  },
  {
   "cell_type": "code",
   "execution_count": 8,
   "metadata": {},
   "outputs": [
    {
     "name": "stdout",
     "output_type": "stream",
     "text": [
      "number of rows in training:  4252142\n",
      "number of rows in test:  286130\n"
     ]
    }
   ],
   "source": [
    "# select the most recent rating as test, the rest as training\n",
    "test = active_ratings.groupby('user_id').tail(1)\n",
    "training = active_ratings.drop(test.index)\n",
    "print(\"number of rows in training: \",len(training))\n",
    "print(\"number of rows in test: \",len(test))"
   ]
  },
  {
   "cell_type": "code",
   "execution_count": 9,
   "metadata": {},
   "outputs": [],
   "source": [
    "# randomly select 50% training as training, otherwise the dataset is too large\n",
    "# training_sample = training.sample(frac=0.5, random_state=12345)"
   ]
  },
  {
   "cell_type": "code",
   "execution_count": 10,
   "metadata": {},
   "outputs": [],
   "source": [
    "# convert to spark dataframe for ALS fitting, drop unrelated columns\n",
    "test_spark = spark.createDataFrame(test[['user_code','item_code','rating']])\n",
    "training_spark = spark.createDataFrame(training[['user_code','item_code','rating']])"
   ]
  },
  {
   "cell_type": "markdown",
   "metadata": {},
   "source": [
    "## Model fitting - Matrix factorization"
   ]
  },
  {
   "cell_type": "code",
   "execution_count": 9,
   "metadata": {
    "scrolled": true
   },
   "outputs": [],
   "source": [
    "# fit matrix factorization model\n",
    "#als = ALS(userCol=\"user_code\", itemCol=\"item_code\", ratingCol=\"rating\",coldStartStrategy=\"drop\")\n",
    "#model = als.fit(training_spark)"
   ]
  },
  {
   "cell_type": "code",
   "execution_count": 10,
   "metadata": {},
   "outputs": [],
   "source": [
    "# Build the ALS model\n",
    "als = ALS(userCol=\"user_code\", itemCol=\"item_code\", ratingCol=\"rating\",coldStartStrategy=\"drop\")\n",
    "\n",
    "# Set parameter map and metric\n",
    "paramGrid = (ParamGridBuilder()\n",
    "              .addGrid(als.rank, [10,15])    # number of latent factors in the model\n",
    "              .addGrid(als.maxIter, [10,15]) # maximum number of iterations to run\n",
    "              .addGrid(als.regParam, [0.01,0.1,0.5]).build())   # regularization parameter in ALS\n",
    "rmse_evaluator=RegressionEvaluator(metricName=\"rmse\",labelCol=\"rating\")\n",
    "\n",
    "# 5-Fold Cross Validation (preserve each submodel)\n",
    "crossval = CrossValidator(estimator=als,\n",
    "                           estimatorParamMaps=paramGrid,\n",
    "                           evaluator=rmse_evaluator,\n",
    "                           numFolds=5)\n",
    "\n",
    "# Fit the model by training dataset.\n",
    "cvModel = crossval.fit(training_spark)"
   ]
  },
  {
   "cell_type": "code",
   "execution_count": 11,
   "metadata": {},
   "outputs": [
    {
     "name": "stdout",
     "output_type": "stream",
     "text": [
      "**Best Model**\n",
      "Rank:  10\n",
      "MaxIter:  15\n",
      "RegParam:  0.5\n"
     ]
    }
   ],
   "source": [
    "# Get the best model from cross validation\n",
    "best_model = cvModel.bestModel\n",
    "\n",
    "# Print evaluation metrics and model parameters\n",
    "print (\"**Best Model**\")\n",
    "print (\"Rank: \", best_model.rank)\n",
    "print (\"MaxIter: \",best_model._java_obj.parent().getMaxIter())\n",
    "print (\"RegParam: \",best_model._java_obj.parent().getRegParam())"
   ]
  },
  {
   "cell_type": "code",
   "execution_count": 13,
   "metadata": {},
   "outputs": [],
   "source": [
    "# save or load the model\n",
    "cvModel.save('MFcvModel')\n",
    "#from pyspark.ml.tuning import CrossValidatorModel\n",
    "#cvModel = CrossValidatorModel.load('MFcvModel')"
   ]
  },
  {
   "cell_type": "code",
   "execution_count": 14,
   "metadata": {},
   "outputs": [
    {
     "name": "stdout",
     "output_type": "stream",
     "text": [
      "test RMSE =  1.4370287007673046\n"
     ]
    }
   ],
   "source": [
    "# Evaluate the model by computing the RMSE on the test data\n",
    "predictions = cvModel.transform(test_spark)\n",
    "rmse=rmse_evaluator.evaluate(predictions)\n",
    "print (\"test RMSE = \", rmse)"
   ]
  },
  {
   "cell_type": "code",
   "execution_count": 15,
   "metadata": {},
   "outputs": [
    {
     "name": "stdout",
     "output_type": "stream",
     "text": [
      "number of rows dropped for cold start:  2919\n"
     ]
    }
   ],
   "source": [
    "print(\"number of rows dropped for cold start: \",len(test)-predictions.count())"
   ]
  },
  {
   "cell_type": "code",
   "execution_count": 15,
   "metadata": {},
   "outputs": [],
   "source": [
    "# save and load predictions\n",
    "#predictions.write.save('predictions', format='parquet')\n",
    "predictions = spark.read.load(\"predictions\") "
   ]
  },
  {
   "cell_type": "markdown",
   "metadata": {},
   "source": [
    "### group by popularity of item"
   ]
  },
  {
   "cell_type": "code",
   "execution_count": 19,
   "metadata": {},
   "outputs": [],
   "source": [
    "# group the items into popular (>=300 ratings), moderate (10-300 ratings) and unpopular (<10 ratings)\n",
    "item_counts = active_ratings[\"item_code\"].value_counts()\n",
    "popular_items = item_counts.loc[item_counts >= 300].index.tolist()\n",
    "moderate_items = item_counts.loc[(item_counts < 300) & (item_counts >= 10)].index.tolist()\n",
    "unpopular_items = item_counts.loc[item_counts < 10].index.tolist()"
   ]
  },
  {
   "cell_type": "code",
   "execution_count": 20,
   "metadata": {},
   "outputs": [
    {
     "name": "stdout",
     "output_type": "stream",
     "text": [
      "rmse of popular items:  1.315975732947149\n",
      "rmse of moderate items:  1.431661381240479\n",
      "rmse of unpopular items:  1.650259185689958\n"
     ]
    }
   ],
   "source": [
    "rmse_popular=rmse_evaluator.evaluate(predictions.filter(predictions.item_code.isin(popular_items)))\n",
    "rmse_moderate=rmse_evaluator.evaluate(predictions.filter(predictions.item_code.isin(moderate_items)))\n",
    "rmse_unpopular=rmse_evaluator.evaluate(predictions.filter(predictions.item_code.isin(unpopular_items)))\n",
    "print(\"rmse of popular items: \" , rmse_popular)\n",
    "print(\"rmse of moderate items: \" , rmse_moderate)\n",
    "print(\"rmse of unpopular items: \" , rmse_unpopular)"
   ]
  },
  {
   "cell_type": "code",
   "execution_count": 22,
   "metadata": {},
   "outputs": [
    {
     "name": "stdout",
     "output_type": "stream",
     "text": [
      "number of popular items:  1844\n",
      "number of moderate items:  70549\n",
      "number of unpopular items:  113330\n"
     ]
    }
   ],
   "source": [
    "# count the number of items in each group\n",
    "print(\"number of popular items: \" , len(popular_items))\n",
    "print(\"number of moderate items: \" , len(moderate_items))\n",
    "print(\"number of unpopular items: \" , len(unpopular_items))"
   ]
  },
  {
   "cell_type": "markdown",
   "metadata": {},
   "source": [
    "### group by activeness of users"
   ]
  },
  {
   "cell_type": "code",
   "execution_count": 16,
   "metadata": {},
   "outputs": [],
   "source": [
    "# group the users into active (>=20 ratings), moderate (10-20 ratings) and inactive (<10 ratings)\n",
    "user_counts = active_ratings[\"user_code\"].value_counts()\n",
    "active_users = user_counts.loc[user_counts >= 20].index.tolist()\n",
    "moderate_users = user_counts.loc[(user_counts < 20) & (user_counts >= 10)].index.tolist()\n",
    "inactive_users = user_counts.loc[user_counts < 10].index.tolist()"
   ]
  },
  {
   "cell_type": "code",
   "execution_count": 18,
   "metadata": {},
   "outputs": [
    {
     "name": "stdout",
     "output_type": "stream",
     "text": [
      "rmse of active users:  1.3399711012473254\n",
      "rmse of moderate users:  1.4070938148225576\n",
      "rmse of inactive users:  1.4775870789989252\n"
     ]
    }
   ],
   "source": [
    "rmse_activeU=rmse_evaluator.evaluate(predictions.filter(predictions.user_code.isin(active_users)))\n",
    "rmse_moderateU=rmse_evaluator.evaluate(predictions.filter(predictions.user_code.isin(moderate_users)))\n",
    "rmse_inactiveU=rmse_evaluator.evaluate(predictions.filter(predictions.user_code.isin(inactive_users)))\n",
    "print(\"rmse of active users: \" , rmse_activeU)\n",
    "print(\"rmse of moderate users: \" , rmse_moderateU)\n",
    "print(\"rmse of inactive users: \" , rmse_inactiveU)"
   ]
  },
  {
   "cell_type": "code",
   "execution_count": 23,
   "metadata": {},
   "outputs": [
    {
     "name": "stdout",
     "output_type": "stream",
     "text": [
      "number of active users:  47944\n",
      "number of moderate users:  74880\n",
      "number of inactive users:  163306\n"
     ]
    }
   ],
   "source": [
    "# count the number of users in each group\n",
    "print(\"number of active users: \" , len(active_users))\n",
    "print(\"number of moderate users: \" , len(moderate_users))\n",
    "print(\"number of inactive users: \" , len(inactive_users))"
   ]
  }
 ],
 "metadata": {
  "kernelspec": {
   "display_name": "Python 3",
   "language": "python",
   "name": "python3"
  },
  "language_info": {
   "codemirror_mode": {
    "name": "ipython",
    "version": 3
   },
   "file_extension": ".py",
   "mimetype": "text/x-python",
   "name": "python",
   "nbconvert_exporter": "python",
   "pygments_lexer": "ipython3",
   "version": "3.7.3"
  }
 },
 "nbformat": 4,
 "nbformat_minor": 2
}
