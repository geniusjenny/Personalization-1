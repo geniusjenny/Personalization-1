{
 "cells": [
  {
   "cell_type": "code",
   "execution_count": 1,
   "metadata": {},
   "outputs": [
    {
     "name": "stderr",
     "output_type": "stream",
     "text": [
      "/Users/jessie/anaconda3/lib/python3.7/site-packages/lightfm/_lightfm_fast.py:9: UserWarning:\n",
      "\n",
      "LightFM was compiled without OpenMP support. Only a single thread will be used.\n",
      "\n"
     ]
    }
   ],
   "source": [
    "import findspark\n",
    "findspark.init()\n",
    "from pyspark import SparkContext, SparkConf\n",
    "from pyspark.sql import SQLContext, SparkSession\n",
    "from pyspark.sql.functions import col\n",
    "from pyspark.ml.tuning import CrossValidator, ParamGridBuilder\n",
    "from pyspark.ml.evaluation import RegressionEvaluator\n",
    "from pyspark.ml.recommendation import ALS\n",
    "from pyspark.mllib.evaluation import RankingMetrics\n",
    "import plotly.express as px\n",
    "import random \n",
    "import time\n",
    "import pandas as pd\n",
    "import matplotlib.pyplot as plt\n",
    "from tqdm import tqdm\n",
    "import json\n",
    "\n",
    "# for NDCG\n",
    "from pyspark.sql import Window\n",
    "from pyspark.sql.functions import col\n",
    "from pyspark.sql.functions import expr\n",
    "import pyspark.sql.functions as F\n",
    "\n",
    "# for lightFM\n",
    "from lightfm import LightFM\n",
    "from lightfm.data import Dataset\n",
    "from lightfm.evaluation import precision_at_k\n",
    "from lightfm.evaluation import auc_score\n",
    "\n",
    "import os\n",
    "import zipfile\n",
    "import requests\n",
    "\n",
    "import numpy as np"
   ]
  },
  {
   "cell_type": "code",
   "execution_count": 66,
   "metadata": {},
   "outputs": [
    {
     "name": "stderr",
     "output_type": "stream",
     "text": [
      "100%|██████████| 1637138/1637138 [00:33<00:00, 49015.06it/s]\n"
     ]
    }
   ],
   "source": [
    "line_count = len(open(\"/Users/jessie/Desktop/Personalization/Project2/yelp_dataset/user.json\").readlines())\n",
    "user_ids, yelping_sinces = [], []\n",
    "# usefuls, funnys, cools = [], [], []\n",
    "fanss, elites = [], []\n",
    "compliment_hots, compliment_mores, compliment_profiles, compliment_cutes = [], [], [], []\n",
    "compliment_lists, compliment_notes, compliment_plains, compliment_cools = [], [], [], []\n",
    "compliment_funnys, compliment_writers, compliment_photos = [], [], []\n",
    "with open(\"/Users/jessie/Desktop/Personalization/Project2/yelp_dataset/user.json\") as f:\n",
    "    for line in tqdm(f, total=line_count):\n",
    "        blob = json.loads(line)\n",
    "        user_ids += [blob[\"user_id\"]]\n",
    "        #review_counts += [blob[\"review_count\"]]\n",
    "        yelping_sinces += [blob[\"yelping_since\"]]\n",
    "        fanss += [blob[\"fans\"]] \n",
    "        elites += [blob[\"elite\"]]\n",
    "        compliment_hots += [blob[\"compliment_hot\"]]\n",
    "        compliment_mores += [blob[\"compliment_more\"]]\n",
    "        compliment_profiles += [blob[\"compliment_profile\"]]\n",
    "        compliment_cutes += [blob[\"compliment_cute\"]]\n",
    "        compliment_lists += [blob[\"compliment_list\"]]\n",
    "        compliment_notes += [blob[\"compliment_note\"]]\n",
    "        compliment_plains += [blob[\"compliment_plain\"]]\n",
    "        compliment_cools += [blob[\"compliment_cool\"]]\n",
    "        compliment_funnys += [blob[\"compliment_funny\"]]\n",
    "        compliment_writers += [blob[\"compliment_writer\"]]\n",
    "        compliment_photos += [blob[\"compliment_photos\"]]\n",
    "\n",
    "users = pd.DataFrame(\n",
    "{\"user_id\": user_ids, \"yelping_since\": yelping_sinces, \"fans\": fanss, \"elite\": elites, \n",
    "\"compliment_hot\": compliment_hots, \"compliment_more\":compliment_mores, \"compliment_profile\": compliment_profiles,\n",
    "\"compliment_cute\":compliment_cutes, \"compliment_list\":compliment_lists,\n",
    "\"compliment_note\": compliment_notes, \"compliment_plain\": compliment_plains,\n",
    "\"compliment_cool\": compliment_cools, \"compliment_funny\": compliment_funnys,\n",
    "\"compliment_writer\": compliment_writers, \"compliment_photos\": compliment_photos}\n",
    ")"
   ]
  },
  {
   "cell_type": "code",
   "execution_count": 67,
   "metadata": {},
   "outputs": [],
   "source": [
    "# save and load the dataframe\n",
    "#users.to_pickle('users.pkl')"
   ]
  },
  {
   "cell_type": "code",
   "execution_count": 2,
   "metadata": {},
   "outputs": [],
   "source": [
    "users = pd.read_pickle('users.pkl')\n",
    "ratings = pd.read_pickle('ratings.pkl')\n",
    "business = pd.read_pickle('business.pkl')"
   ]
  },
  {
   "cell_type": "code",
   "execution_count": 3,
   "metadata": {},
   "outputs": [
    {
     "data": {
      "text/html": [
       "<div>\n",
       "<style scoped>\n",
       "    .dataframe tbody tr th:only-of-type {\n",
       "        vertical-align: middle;\n",
       "    }\n",
       "\n",
       "    .dataframe tbody tr th {\n",
       "        vertical-align: top;\n",
       "    }\n",
       "\n",
       "    .dataframe thead th {\n",
       "        text-align: right;\n",
       "    }\n",
       "</style>\n",
       "<table border=\"1\" class=\"dataframe\">\n",
       "  <thead>\n",
       "    <tr style=\"text-align: right;\">\n",
       "      <th></th>\n",
       "      <th>user_id</th>\n",
       "      <th>business_id</th>\n",
       "      <th>rating</th>\n",
       "      <th>date</th>\n",
       "    </tr>\n",
       "  </thead>\n",
       "  <tbody>\n",
       "    <tr>\n",
       "      <th>0</th>\n",
       "      <td>hG7b0MtEbXx5QzbzE6C_VA</td>\n",
       "      <td>ujmEBvifdJM6h6RLv4wQIg</td>\n",
       "      <td>1.0</td>\n",
       "      <td>2013-05-07 04:34:36</td>\n",
       "    </tr>\n",
       "    <tr>\n",
       "      <th>1</th>\n",
       "      <td>yXQM5uF2jS6es16SJzNHfg</td>\n",
       "      <td>NZnhc2sEQy3RmzKTZnqtwQ</td>\n",
       "      <td>5.0</td>\n",
       "      <td>2017-01-14 21:30:33</td>\n",
       "    </tr>\n",
       "    <tr>\n",
       "      <th>2</th>\n",
       "      <td>n6-Gk65cPZL6Uz8qRm3NYw</td>\n",
       "      <td>WTqjgwHlXbSFevF32_DJVw</td>\n",
       "      <td>5.0</td>\n",
       "      <td>2016-11-09 20:09:03</td>\n",
       "    </tr>\n",
       "    <tr>\n",
       "      <th>3</th>\n",
       "      <td>dacAIZ6fTM6mqwW5uxkskg</td>\n",
       "      <td>ikCg8xy5JIg_NGPx-MSIDA</td>\n",
       "      <td>5.0</td>\n",
       "      <td>2018-01-09 20:56:38</td>\n",
       "    </tr>\n",
       "    <tr>\n",
       "      <th>4</th>\n",
       "      <td>ssoyf2_x0EQMed6fgHeMyQ</td>\n",
       "      <td>b1b1eb3uo-w561D0ZfCEiQ</td>\n",
       "      <td>1.0</td>\n",
       "      <td>2018-01-30 23:07:38</td>\n",
       "    </tr>\n",
       "  </tbody>\n",
       "</table>\n",
       "</div>"
      ],
      "text/plain": [
       "                  user_id             business_id  rating                 date\n",
       "0  hG7b0MtEbXx5QzbzE6C_VA  ujmEBvifdJM6h6RLv4wQIg     1.0  2013-05-07 04:34:36\n",
       "1  yXQM5uF2jS6es16SJzNHfg  NZnhc2sEQy3RmzKTZnqtwQ     5.0  2017-01-14 21:30:33\n",
       "2  n6-Gk65cPZL6Uz8qRm3NYw  WTqjgwHlXbSFevF32_DJVw     5.0  2016-11-09 20:09:03\n",
       "3  dacAIZ6fTM6mqwW5uxkskg  ikCg8xy5JIg_NGPx-MSIDA     5.0  2018-01-09 20:56:38\n",
       "4  ssoyf2_x0EQMed6fgHeMyQ  b1b1eb3uo-w561D0ZfCEiQ     1.0  2018-01-30 23:07:38"
      ]
     },
     "execution_count": 3,
     "metadata": {},
     "output_type": "execute_result"
    }
   ],
   "source": [
    "ratings.head()"
   ]
  },
  {
   "cell_type": "code",
   "execution_count": 4,
   "metadata": {},
   "outputs": [
    {
     "data": {
      "text/html": [
       "<div>\n",
       "<style scoped>\n",
       "    .dataframe tbody tr th:only-of-type {\n",
       "        vertical-align: middle;\n",
       "    }\n",
       "\n",
       "    .dataframe tbody tr th {\n",
       "        vertical-align: top;\n",
       "    }\n",
       "\n",
       "    .dataframe thead th {\n",
       "        text-align: right;\n",
       "    }\n",
       "</style>\n",
       "<table border=\"1\" class=\"dataframe\">\n",
       "  <thead>\n",
       "    <tr style=\"text-align: right;\">\n",
       "      <th></th>\n",
       "      <th>business_id</th>\n",
       "      <th>name</th>\n",
       "      <th>address</th>\n",
       "      <th>city</th>\n",
       "      <th>state</th>\n",
       "      <th>postal_code</th>\n",
       "      <th>latitude</th>\n",
       "      <th>longitude</th>\n",
       "      <th>stars</th>\n",
       "      <th>review_count</th>\n",
       "      <th>is_open</th>\n",
       "      <th>attributes</th>\n",
       "      <th>categories</th>\n",
       "      <th>hours</th>\n",
       "    </tr>\n",
       "  </thead>\n",
       "  <tbody>\n",
       "    <tr>\n",
       "      <th>0</th>\n",
       "      <td>1SWheh84yJXfytovILXOAQ</td>\n",
       "      <td>Arizona Biltmore Golf Club</td>\n",
       "      <td>2818 E Camino Acequia Drive</td>\n",
       "      <td>Phoenix</td>\n",
       "      <td>AZ</td>\n",
       "      <td>85016</td>\n",
       "      <td>33.522143</td>\n",
       "      <td>-112.018481</td>\n",
       "      <td>3.0</td>\n",
       "      <td>5</td>\n",
       "      <td>0</td>\n",
       "      <td>{'GoodForKids': 'False'}</td>\n",
       "      <td>Golf, Active Life</td>\n",
       "      <td>None</td>\n",
       "    </tr>\n",
       "    <tr>\n",
       "      <th>1</th>\n",
       "      <td>QXAEGFB4oINsVuTFxEYKFQ</td>\n",
       "      <td>Emerald Chinese Restaurant</td>\n",
       "      <td>30 Eglinton Avenue W</td>\n",
       "      <td>Mississauga</td>\n",
       "      <td>ON</td>\n",
       "      <td>L5R 3E7</td>\n",
       "      <td>43.605499</td>\n",
       "      <td>-79.652289</td>\n",
       "      <td>2.5</td>\n",
       "      <td>128</td>\n",
       "      <td>1</td>\n",
       "      <td>{'RestaurantsReservations': 'True', 'GoodForMe...</td>\n",
       "      <td>Specialty Food, Restaurants, Dim Sum, Imported...</td>\n",
       "      <td>{'Monday': '9:0-0:0', 'Tuesday': '9:0-0:0', 'W...</td>\n",
       "    </tr>\n",
       "    <tr>\n",
       "      <th>2</th>\n",
       "      <td>gnKjwL_1w79qoiV3IC_xQQ</td>\n",
       "      <td>Musashi Japanese Restaurant</td>\n",
       "      <td>10110 Johnston Rd, Ste 15</td>\n",
       "      <td>Charlotte</td>\n",
       "      <td>NC</td>\n",
       "      <td>28210</td>\n",
       "      <td>35.092564</td>\n",
       "      <td>-80.859132</td>\n",
       "      <td>4.0</td>\n",
       "      <td>170</td>\n",
       "      <td>1</td>\n",
       "      <td>{'GoodForKids': 'True', 'NoiseLevel': 'u'avera...</td>\n",
       "      <td>Sushi Bars, Restaurants, Japanese</td>\n",
       "      <td>{'Monday': '17:30-21:30', 'Wednesday': '17:30-...</td>\n",
       "    </tr>\n",
       "    <tr>\n",
       "      <th>3</th>\n",
       "      <td>xvX2CttrVhyG2z1dFg_0xw</td>\n",
       "      <td>Farmers Insurance - Paul Lorenz</td>\n",
       "      <td>15655 W Roosevelt St, Ste 237</td>\n",
       "      <td>Goodyear</td>\n",
       "      <td>AZ</td>\n",
       "      <td>85338</td>\n",
       "      <td>33.455613</td>\n",
       "      <td>-112.395596</td>\n",
       "      <td>5.0</td>\n",
       "      <td>3</td>\n",
       "      <td>1</td>\n",
       "      <td>None</td>\n",
       "      <td>Insurance, Financial Services</td>\n",
       "      <td>{'Monday': '8:0-17:0', 'Tuesday': '8:0-17:0', ...</td>\n",
       "    </tr>\n",
       "    <tr>\n",
       "      <th>4</th>\n",
       "      <td>HhyxOkGAM07SRYtlQ4wMFQ</td>\n",
       "      <td>Queen City Plumbing</td>\n",
       "      <td>4209 Stuart Andrew Blvd, Ste F</td>\n",
       "      <td>Charlotte</td>\n",
       "      <td>NC</td>\n",
       "      <td>28217</td>\n",
       "      <td>35.190012</td>\n",
       "      <td>-80.887223</td>\n",
       "      <td>4.0</td>\n",
       "      <td>4</td>\n",
       "      <td>1</td>\n",
       "      <td>{'BusinessAcceptsBitcoin': 'False', 'ByAppoint...</td>\n",
       "      <td>Plumbing, Shopping, Local Services, Home Servi...</td>\n",
       "      <td>{'Monday': '7:0-23:0', 'Tuesday': '7:0-23:0', ...</td>\n",
       "    </tr>\n",
       "  </tbody>\n",
       "</table>\n",
       "</div>"
      ],
      "text/plain": [
       "              business_id                             name  \\\n",
       "0  1SWheh84yJXfytovILXOAQ       Arizona Biltmore Golf Club   \n",
       "1  QXAEGFB4oINsVuTFxEYKFQ       Emerald Chinese Restaurant   \n",
       "2  gnKjwL_1w79qoiV3IC_xQQ      Musashi Japanese Restaurant   \n",
       "3  xvX2CttrVhyG2z1dFg_0xw  Farmers Insurance - Paul Lorenz   \n",
       "4  HhyxOkGAM07SRYtlQ4wMFQ              Queen City Plumbing   \n",
       "\n",
       "                          address         city state postal_code   latitude  \\\n",
       "0     2818 E Camino Acequia Drive      Phoenix    AZ       85016  33.522143   \n",
       "1            30 Eglinton Avenue W  Mississauga    ON     L5R 3E7  43.605499   \n",
       "2       10110 Johnston Rd, Ste 15    Charlotte    NC       28210  35.092564   \n",
       "3   15655 W Roosevelt St, Ste 237     Goodyear    AZ       85338  33.455613   \n",
       "4  4209 Stuart Andrew Blvd, Ste F    Charlotte    NC       28217  35.190012   \n",
       "\n",
       "    longitude  stars  review_count  is_open  \\\n",
       "0 -112.018481    3.0             5        0   \n",
       "1  -79.652289    2.5           128        1   \n",
       "2  -80.859132    4.0           170        1   \n",
       "3 -112.395596    5.0             3        1   \n",
       "4  -80.887223    4.0             4        1   \n",
       "\n",
       "                                          attributes  \\\n",
       "0                           {'GoodForKids': 'False'}   \n",
       "1  {'RestaurantsReservations': 'True', 'GoodForMe...   \n",
       "2  {'GoodForKids': 'True', 'NoiseLevel': 'u'avera...   \n",
       "3                                               None   \n",
       "4  {'BusinessAcceptsBitcoin': 'False', 'ByAppoint...   \n",
       "\n",
       "                                          categories  \\\n",
       "0                                  Golf, Active Life   \n",
       "1  Specialty Food, Restaurants, Dim Sum, Imported...   \n",
       "2                  Sushi Bars, Restaurants, Japanese   \n",
       "3                      Insurance, Financial Services   \n",
       "4  Plumbing, Shopping, Local Services, Home Servi...   \n",
       "\n",
       "                                               hours  \n",
       "0                                               None  \n",
       "1  {'Monday': '9:0-0:0', 'Tuesday': '9:0-0:0', 'W...  \n",
       "2  {'Monday': '17:30-21:30', 'Wednesday': '17:30-...  \n",
       "3  {'Monday': '8:0-17:0', 'Tuesday': '8:0-17:0', ...  \n",
       "4  {'Monday': '7:0-23:0', 'Tuesday': '7:0-23:0', ...  "
      ]
     },
     "execution_count": 4,
     "metadata": {},
     "output_type": "execute_result"
    }
   ],
   "source": [
    "business.head()"
   ]
  },
  {
   "cell_type": "code",
   "execution_count": 68,
   "metadata": {},
   "outputs": [
    {
     "data": {
      "text/html": [
       "<div>\n",
       "<style scoped>\n",
       "    .dataframe tbody tr th:only-of-type {\n",
       "        vertical-align: middle;\n",
       "    }\n",
       "\n",
       "    .dataframe tbody tr th {\n",
       "        vertical-align: top;\n",
       "    }\n",
       "\n",
       "    .dataframe thead th {\n",
       "        text-align: right;\n",
       "    }\n",
       "</style>\n",
       "<table border=\"1\" class=\"dataframe\">\n",
       "  <thead>\n",
       "    <tr style=\"text-align: right;\">\n",
       "      <th></th>\n",
       "      <th>user_id</th>\n",
       "      <th>yelping_since</th>\n",
       "      <th>fans</th>\n",
       "      <th>elite</th>\n",
       "      <th>compliment_hot</th>\n",
       "      <th>compliment_more</th>\n",
       "      <th>compliment_profile</th>\n",
       "      <th>compliment_cute</th>\n",
       "      <th>compliment_list</th>\n",
       "      <th>compliment_note</th>\n",
       "      <th>compliment_plain</th>\n",
       "      <th>compliment_cool</th>\n",
       "      <th>compliment_funny</th>\n",
       "      <th>compliment_writer</th>\n",
       "      <th>compliment_photos</th>\n",
       "    </tr>\n",
       "  </thead>\n",
       "  <tbody>\n",
       "    <tr>\n",
       "      <th>0</th>\n",
       "      <td>l6BmjZMeQD3rDxWUbiAiow</td>\n",
       "      <td>2013-10-08 23:11:33</td>\n",
       "      <td>5</td>\n",
       "      <td>2015,2016,2017</td>\n",
       "      <td>2</td>\n",
       "      <td>0</td>\n",
       "      <td>0</td>\n",
       "      <td>0</td>\n",
       "      <td>0</td>\n",
       "      <td>1</td>\n",
       "      <td>1</td>\n",
       "      <td>1</td>\n",
       "      <td>1</td>\n",
       "      <td>2</td>\n",
       "      <td>0</td>\n",
       "    </tr>\n",
       "    <tr>\n",
       "      <th>1</th>\n",
       "      <td>4XChL029mKr5hydo79Ljxg</td>\n",
       "      <td>2013-02-21 22:29:06</td>\n",
       "      <td>4</td>\n",
       "      <td></td>\n",
       "      <td>1</td>\n",
       "      <td>0</td>\n",
       "      <td>0</td>\n",
       "      <td>0</td>\n",
       "      <td>0</td>\n",
       "      <td>0</td>\n",
       "      <td>0</td>\n",
       "      <td>1</td>\n",
       "      <td>1</td>\n",
       "      <td>0</td>\n",
       "      <td>0</td>\n",
       "    </tr>\n",
       "    <tr>\n",
       "      <th>2</th>\n",
       "      <td>bc8C_eETBWL0olvFSJJd0w</td>\n",
       "      <td>2013-10-04 00:16:10</td>\n",
       "      <td>0</td>\n",
       "      <td></td>\n",
       "      <td>0</td>\n",
       "      <td>0</td>\n",
       "      <td>0</td>\n",
       "      <td>0</td>\n",
       "      <td>0</td>\n",
       "      <td>1</td>\n",
       "      <td>0</td>\n",
       "      <td>0</td>\n",
       "      <td>0</td>\n",
       "      <td>0</td>\n",
       "      <td>0</td>\n",
       "    </tr>\n",
       "    <tr>\n",
       "      <th>3</th>\n",
       "      <td>dD0gZpBctWGdWo9WlGuhlA</td>\n",
       "      <td>2014-05-22 15:57:30</td>\n",
       "      <td>5</td>\n",
       "      <td></td>\n",
       "      <td>1</td>\n",
       "      <td>0</td>\n",
       "      <td>0</td>\n",
       "      <td>0</td>\n",
       "      <td>0</td>\n",
       "      <td>0</td>\n",
       "      <td>2</td>\n",
       "      <td>0</td>\n",
       "      <td>0</td>\n",
       "      <td>1</td>\n",
       "      <td>0</td>\n",
       "    </tr>\n",
       "    <tr>\n",
       "      <th>4</th>\n",
       "      <td>MM4RJAeH6yuaN8oZDSt0RA</td>\n",
       "      <td>2013-10-23 07:02:50</td>\n",
       "      <td>39</td>\n",
       "      <td>2015,2016,2017,2018</td>\n",
       "      <td>28</td>\n",
       "      <td>1</td>\n",
       "      <td>0</td>\n",
       "      <td>0</td>\n",
       "      <td>1</td>\n",
       "      <td>16</td>\n",
       "      <td>57</td>\n",
       "      <td>80</td>\n",
       "      <td>80</td>\n",
       "      <td>25</td>\n",
       "      <td>5</td>\n",
       "    </tr>\n",
       "  </tbody>\n",
       "</table>\n",
       "</div>"
      ],
      "text/plain": [
       "                  user_id        yelping_since  fans                elite  \\\n",
       "0  l6BmjZMeQD3rDxWUbiAiow  2013-10-08 23:11:33     5       2015,2016,2017   \n",
       "1  4XChL029mKr5hydo79Ljxg  2013-02-21 22:29:06     4                        \n",
       "2  bc8C_eETBWL0olvFSJJd0w  2013-10-04 00:16:10     0                        \n",
       "3  dD0gZpBctWGdWo9WlGuhlA  2014-05-22 15:57:30     5                        \n",
       "4  MM4RJAeH6yuaN8oZDSt0RA  2013-10-23 07:02:50    39  2015,2016,2017,2018   \n",
       "\n",
       "   compliment_hot  compliment_more  compliment_profile  compliment_cute  \\\n",
       "0               2                0                   0                0   \n",
       "1               1                0                   0                0   \n",
       "2               0                0                   0                0   \n",
       "3               1                0                   0                0   \n",
       "4              28                1                   0                0   \n",
       "\n",
       "   compliment_list  compliment_note  compliment_plain  compliment_cool  \\\n",
       "0                0                1                 1                1   \n",
       "1                0                0                 0                1   \n",
       "2                0                1                 0                0   \n",
       "3                0                0                 2                0   \n",
       "4                1               16                57               80   \n",
       "\n",
       "   compliment_funny  compliment_writer  compliment_photos  \n",
       "0                 1                  2                  0  \n",
       "1                 1                  0                  0  \n",
       "2                 0                  0                  0  \n",
       "3                 0                  1                  0  \n",
       "4                80                 25                  5  "
      ]
     },
     "execution_count": 68,
     "metadata": {},
     "output_type": "execute_result"
    }
   ],
   "source": [
    "users.head()"
   ]
  },
  {
   "cell_type": "code",
   "execution_count": 5,
   "metadata": {},
   "outputs": [],
   "source": [
    "# select active ratings\n",
    "user_counts = ratings[\"user_id\"].value_counts()\n",
    "active_users = user_counts.loc[user_counts >= 5].index.tolist()"
   ]
  },
  {
   "cell_type": "markdown",
   "metadata": {},
   "source": [
    "Get sub sample  \n",
    "1% of the user as subsample, the most recent record as subsample test"
   ]
  },
  {
   "cell_type": "code",
   "execution_count": 6,
   "metadata": {},
   "outputs": [
    {
     "name": "stdout",
     "output_type": "stream",
     "text": [
      "number of users in the sample:  2861\n",
      "number of business in the sample:  28191\n",
      "number of ratings in the sample:  49133\n"
     ]
    }
   ],
   "source": [
    "# randomly select 1% users\n",
    "import random \n",
    "random.seed(12345)\n",
    "sample_1pc = random.sample(active_users,int(0.01*len(active_users)))\n",
    "sample_ratings=ratings.loc[ratings['user_id'].isin(sample_1pc)]\n",
    "sample_business=business.loc[business['business_id'].isin(sample_ratings['business_id'])]\n",
    "print(\"number of users in the sample: \",len(sample_1pc))\n",
    "print(\"number of business in the sample: \",len(sample_business))\n",
    "print(\"number of ratings in the sample: \",len(sample_ratings))"
   ]
  },
  {
   "cell_type": "code",
   "execution_count": 7,
   "metadata": {},
   "outputs": [],
   "source": [
    "# reset the index \n",
    "sample_ratings = sample_ratings.reset_index(drop=True)\n",
    "sample_business = sample_business.reset_index(drop=True)"
   ]
  },
  {
   "cell_type": "markdown",
   "metadata": {},
   "source": [
    "# Feature selection 1: stars + states + review_counts + categories"
   ]
  },
  {
   "cell_type": "code",
   "execution_count": 20,
   "metadata": {},
   "outputs": [
    {
     "name": "stdout",
     "output_type": "stream",
     "text": [
      "<2861x28191 sparse matrix of type '<class 'numpy.int32'>'\n",
      "\twith 49133 stored elements in COOrdinate format>\n",
      "<28191x48536 sparse matrix of type '<class 'numpy.float32'>'\n",
      "\twith 140719 stored elements in Compressed Sparse Row format>\n"
     ]
    }
   ],
   "source": [
    "# prepare the dataset\n",
    "dataset = Dataset()\n",
    "dataset.fit((sample_ratings['user_id']),\n",
    "            (sample_ratings['business_id']))\n",
    "dataset.fit_partial(items=(sample_business['business_id']),\n",
    "                    item_features = (sample_business['stars']))\n",
    "\n",
    "dataset.fit_partial(items=(sample_business['business_id']),\n",
    "                    item_features = (sample_business['state']))\n",
    "\n",
    "dataset.fit_partial(items=(sample_business['business_id']),\n",
    "                    item_features = (sample_business['review_count']))\n",
    "\n",
    "dataset.fit_partial(items=(sample_business['business_id']),\n",
    "                    item_features = (sample_business['categories']))\n",
    "\n",
    "\n",
    "(interactions, weights) = dataset.build_interactions((sample_ratings['user_id'][i],sample_ratings['business_id'][i]) \n",
    "                                                     for i in range(len(sample_ratings)))\n",
    "\n",
    "print(repr(interactions))\n",
    "\n",
    "item_features = dataset.build_item_features(((sample_business['business_id'][i], [sample_business['stars'][i],\n",
    "                             sample_business['state'][i],sample_business['review_count'][i],sample_business['categories'][i]])\n",
    "                                              for i in range(len(sample_business))))\n",
    "print(repr(item_features))\n"
   ]
  },
  {
   "cell_type": "code",
   "execution_count": 21,
   "metadata": {},
   "outputs": [],
   "source": [
    "#from lightfm import cross_validation\n",
    "from lightfm.cross_validation import random_train_test_split"
   ]
  },
  {
   "cell_type": "code",
   "execution_count": 23,
   "metadata": {
    "scrolled": true
   },
   "outputs": [],
   "source": [
    "my_r=np.random.seed(12345)\n",
    "training, test = random_train_test_split(interactions, test_percentage=0.2, random_state=my_r)"
   ]
  },
  {
   "cell_type": "code",
   "execution_count": 24,
   "metadata": {},
   "outputs": [
    {
     "data": {
      "text/plain": [
       "<2861x28191 sparse matrix of type '<class 'numpy.int32'>'\n",
       "\twith 39306 stored elements in COOrdinate format>"
      ]
     },
     "execution_count": 24,
     "metadata": {},
     "output_type": "execute_result"
    }
   ],
   "source": [
    "training"
   ]
  },
  {
   "cell_type": "code",
   "execution_count": 25,
   "metadata": {},
   "outputs": [
    {
     "data": {
      "text/plain": [
       "<2861x28191 sparse matrix of type '<class 'numpy.int32'>'\n",
       "\twith 9827 stored elements in COOrdinate format>"
      ]
     },
     "execution_count": 25,
     "metadata": {},
     "output_type": "execute_result"
    }
   ],
   "source": [
    "test"
   ]
  },
  {
   "cell_type": "code",
   "execution_count": 26,
   "metadata": {},
   "outputs": [
    {
     "data": {
      "text/plain": [
       "<lightfm.lightfm.LightFM at 0x1a682baf60>"
      ]
     },
     "execution_count": 26,
     "metadata": {},
     "output_type": "execute_result"
    }
   ],
   "source": [
    "# FM\n",
    "model = LightFM(loss='warp')\n",
    "model.fit(training,epochs=20,item_features=item_features)"
   ]
  },
  {
   "cell_type": "code",
   "execution_count": 27,
   "metadata": {
    "scrolled": false
   },
   "outputs": [
    {
     "name": "stdout",
     "output_type": "stream",
     "text": [
      "training precision:  0.031247815\n",
      "training AUC:  0.9411819\n"
     ]
    }
   ],
   "source": [
    "train_precision = precision_at_k(model, training,item_features=item_features, k=10).mean()\n",
    "train_auc = auc_score(model, training,item_features=item_features).mean()\n",
    "print(\"training precision: \",train_precision)\n",
    "print(\"training AUC: \",train_auc)"
   ]
  },
  {
   "cell_type": "code",
   "execution_count": 28,
   "metadata": {
    "scrolled": true
   },
   "outputs": [
    {
     "name": "stdout",
     "output_type": "stream",
     "text": [
      "test precision:  0.0051112943\n",
      "test AUC:  0.88237303\n"
     ]
    }
   ],
   "source": [
    "test_precision = precision_at_k(model, test,item_features=item_features, k=10).mean()\n",
    "test_auc = auc_score(model, test,item_features=item_features).mean()\n",
    "print(\"test precision: \",test_precision)\n",
    "print(\"test AUC: \",test_auc)"
   ]
  },
  {
   "cell_type": "markdown",
   "metadata": {},
   "source": [
    "# Feature selection 2: stars + states + review_counts"
   ]
  },
  {
   "cell_type": "code",
   "execution_count": 30,
   "metadata": {},
   "outputs": [
    {
     "name": "stdout",
     "output_type": "stream",
     "text": [
      "<2861x28191 sparse matrix of type '<class 'numpy.int32'>'\n",
      "\twith 49133 stored elements in COOrdinate format>\n",
      "<28191x29394 sparse matrix of type '<class 'numpy.float32'>'\n",
      "\twith 112528 stored elements in Compressed Sparse Row format>\n"
     ]
    }
   ],
   "source": [
    "# prepare the dataset\n",
    "dataset = Dataset()\n",
    "dataset.fit((sample_ratings['user_id']),\n",
    "            (sample_ratings['business_id']))\n",
    "dataset.fit_partial(items=(sample_business['business_id']),\n",
    "                    item_features = (sample_business['stars']))\n",
    "\n",
    "dataset.fit_partial(items=(sample_business['business_id']),\n",
    "                    item_features = (sample_business['state']))\n",
    "\n",
    "dataset.fit_partial(items=(sample_business['business_id']),\n",
    "                    item_features = (sample_business['review_count']))\n",
    "\n",
    "\n",
    "\n",
    "(interactions, weights) = dataset.build_interactions((sample_ratings['user_id'][i],sample_ratings['business_id'][i]) \n",
    "                                                     for i in range(len(sample_ratings)))\n",
    "\n",
    "print(repr(interactions))\n",
    "\n",
    "item_features = dataset.build_item_features(((sample_business['business_id'][i], [sample_business['stars'][i],\n",
    "                             sample_business['state'][i],sample_business['review_count'][i]])\n",
    "                                              for i in range(len(sample_business))))\n",
    "\n",
    "print(repr(item_features))"
   ]
  },
  {
   "cell_type": "code",
   "execution_count": 31,
   "metadata": {},
   "outputs": [],
   "source": [
    "#from lightfm import cross_validation\n",
    "from lightfm.cross_validation import random_train_test_split"
   ]
  },
  {
   "cell_type": "code",
   "execution_count": 32,
   "metadata": {
    "scrolled": true
   },
   "outputs": [],
   "source": [
    "my_r=np.random.seed(12345)\n",
    "training, test = random_train_test_split(interactions, test_percentage=0.2, random_state=my_r)"
   ]
  },
  {
   "cell_type": "code",
   "execution_count": 33,
   "metadata": {},
   "outputs": [
    {
     "data": {
      "text/plain": [
       "<2861x28191 sparse matrix of type '<class 'numpy.int32'>'\n",
       "\twith 39306 stored elements in COOrdinate format>"
      ]
     },
     "execution_count": 33,
     "metadata": {},
     "output_type": "execute_result"
    }
   ],
   "source": [
    "training"
   ]
  },
  {
   "cell_type": "code",
   "execution_count": 34,
   "metadata": {},
   "outputs": [
    {
     "data": {
      "text/plain": [
       "<2861x28191 sparse matrix of type '<class 'numpy.int32'>'\n",
       "\twith 9827 stored elements in COOrdinate format>"
      ]
     },
     "execution_count": 34,
     "metadata": {},
     "output_type": "execute_result"
    }
   ],
   "source": [
    "test"
   ]
  },
  {
   "cell_type": "code",
   "execution_count": 35,
   "metadata": {},
   "outputs": [
    {
     "data": {
      "text/plain": [
       "<lightfm.lightfm.LightFM at 0x1a682bab00>"
      ]
     },
     "execution_count": 35,
     "metadata": {},
     "output_type": "execute_result"
    }
   ],
   "source": [
    "# FM\n",
    "model = LightFM(loss='warp')\n",
    "model.fit(training,epochs=20,item_features=item_features)"
   ]
  },
  {
   "cell_type": "code",
   "execution_count": 36,
   "metadata": {
    "scrolled": false
   },
   "outputs": [
    {
     "name": "stdout",
     "output_type": "stream",
     "text": [
      "training precision:  0.027437959\n",
      "training AUC:  0.93710303\n"
     ]
    }
   ],
   "source": [
    "train_precision = precision_at_k(model, training,item_features=item_features, k=10).mean()\n",
    "train_auc = auc_score(model, training,item_features=item_features).mean()\n",
    "print(\"training precision: \",train_precision)\n",
    "print(\"training AUC: \",train_auc)"
   ]
  },
  {
   "cell_type": "code",
   "execution_count": 37,
   "metadata": {
    "scrolled": true
   },
   "outputs": [
    {
     "name": "stdout",
     "output_type": "stream",
     "text": [
      "test precision:  0.0061512887\n",
      "test AUC:  0.8836798\n"
     ]
    }
   ],
   "source": [
    "test_precision = precision_at_k(model, test,item_features=item_features, k=10).mean()\n",
    "test_auc = auc_score(model, test,item_features=item_features).mean()\n",
    "print(\"test precision: \",test_precision)\n",
    "print(\"test AUC: \",test_auc)"
   ]
  },
  {
   "cell_type": "markdown",
   "metadata": {},
   "source": [
    "# Feature selection 3: stars + states"
   ]
  },
  {
   "cell_type": "code",
   "execution_count": 38,
   "metadata": {},
   "outputs": [
    {
     "name": "stdout",
     "output_type": "stream",
     "text": [
      "<2861x28191 sparse matrix of type '<class 'numpy.int32'>'\n",
      "\twith 49133 stored elements in COOrdinate format>\n",
      "<28191x28213 sparse matrix of type '<class 'numpy.float32'>'\n",
      "\twith 84573 stored elements in Compressed Sparse Row format>\n"
     ]
    }
   ],
   "source": [
    "# prepare the dataset\n",
    "dataset = Dataset()\n",
    "dataset.fit((sample_ratings['user_id']),\n",
    "            (sample_ratings['business_id']))\n",
    "dataset.fit_partial(items=(sample_business['business_id']),\n",
    "                    item_features = (sample_business['stars']))\n",
    "\n",
    "dataset.fit_partial(items=(sample_business['business_id']),\n",
    "                    item_features = (sample_business['state']))\n",
    "\n",
    "\n",
    "\n",
    "(interactions, weights) = dataset.build_interactions((sample_ratings['user_id'][i],sample_ratings['business_id'][i]) \n",
    "                                                     for i in range(len(sample_ratings)))\n",
    "\n",
    "print(repr(interactions))\n",
    "\n",
    "item_features = dataset.build_item_features(((sample_business['business_id'][i], [sample_business['stars'][i],\n",
    "                             sample_business['state'][i]])\n",
    "                                              for i in range(len(sample_business))))\n",
    "\n",
    "print(repr(item_features))"
   ]
  },
  {
   "cell_type": "code",
   "execution_count": 39,
   "metadata": {},
   "outputs": [],
   "source": [
    "#from lightfm import cross_validation\n",
    "from lightfm.cross_validation import random_train_test_split"
   ]
  },
  {
   "cell_type": "code",
   "execution_count": 40,
   "metadata": {
    "scrolled": true
   },
   "outputs": [],
   "source": [
    "my_r=np.random.seed(12345)\n",
    "training, test = random_train_test_split(interactions, test_percentage=0.2, random_state=my_r)"
   ]
  },
  {
   "cell_type": "code",
   "execution_count": 41,
   "metadata": {},
   "outputs": [
    {
     "data": {
      "text/plain": [
       "<2861x28191 sparse matrix of type '<class 'numpy.int32'>'\n",
       "\twith 39306 stored elements in COOrdinate format>"
      ]
     },
     "execution_count": 41,
     "metadata": {},
     "output_type": "execute_result"
    }
   ],
   "source": [
    "training"
   ]
  },
  {
   "cell_type": "code",
   "execution_count": 42,
   "metadata": {},
   "outputs": [
    {
     "data": {
      "text/plain": [
       "<2861x28191 sparse matrix of type '<class 'numpy.int32'>'\n",
       "\twith 9827 stored elements in COOrdinate format>"
      ]
     },
     "execution_count": 42,
     "metadata": {},
     "output_type": "execute_result"
    }
   ],
   "source": [
    "test"
   ]
  },
  {
   "cell_type": "code",
   "execution_count": 43,
   "metadata": {},
   "outputs": [
    {
     "data": {
      "text/plain": [
       "<lightfm.lightfm.LightFM at 0x1a682ba550>"
      ]
     },
     "execution_count": 43,
     "metadata": {},
     "output_type": "execute_result"
    }
   ],
   "source": [
    "# FM\n",
    "model = LightFM(loss='warp')\n",
    "model.fit(training,epochs=20,item_features=item_features)"
   ]
  },
  {
   "cell_type": "code",
   "execution_count": 44,
   "metadata": {
    "scrolled": false
   },
   "outputs": [
    {
     "name": "stdout",
     "output_type": "stream",
     "text": [
      "training precision:  0.03293706\n",
      "training AUC:  0.94871986\n"
     ]
    }
   ],
   "source": [
    "train_precision = precision_at_k(model, training,item_features=item_features, k=10).mean()\n",
    "train_auc = auc_score(model, training,item_features=item_features).mean()\n",
    "print(\"training precision: \",train_precision)\n",
    "print(\"training AUC: \",train_auc)"
   ]
  },
  {
   "cell_type": "code",
   "execution_count": 45,
   "metadata": {
    "scrolled": true
   },
   "outputs": [
    {
     "name": "stdout",
     "output_type": "stream",
     "text": [
      "test precision:  0.0050000004\n",
      "test AUC:  0.8778921\n"
     ]
    }
   ],
   "source": [
    "test_precision = precision_at_k(model, test,item_features=item_features, k=10).mean()\n",
    "test_auc = auc_score(model, test,item_features=item_features).mean()\n",
    "print(\"test precision: \",test_precision)\n",
    "print(\"test AUC: \",test_auc)"
   ]
  },
  {
   "cell_type": "markdown",
   "metadata": {},
   "source": [
    "# Feature selection 4: stars + review_counts"
   ]
  },
  {
   "cell_type": "code",
   "execution_count": 46,
   "metadata": {},
   "outputs": [
    {
     "name": "stdout",
     "output_type": "stream",
     "text": [
      "<2861x28191 sparse matrix of type '<class 'numpy.int32'>'\n",
      "\twith 49133 stored elements in COOrdinate format>\n",
      "<28191x29381 sparse matrix of type '<class 'numpy.float32'>'\n",
      "\twith 84337 stored elements in Compressed Sparse Row format>\n"
     ]
    }
   ],
   "source": [
    "# prepare the dataset\n",
    "dataset = Dataset()\n",
    "dataset.fit((sample_ratings['user_id']),\n",
    "            (sample_ratings['business_id']))\n",
    "dataset.fit_partial(items=(sample_business['business_id']),\n",
    "                    item_features = (sample_business['stars']))\n",
    "\n",
    "\n",
    "dataset.fit_partial(items=(sample_business['business_id']),\n",
    "                    item_features = (sample_business['review_count']))\n",
    "\n",
    "\n",
    "\n",
    "(interactions, weights) = dataset.build_interactions((sample_ratings['user_id'][i],sample_ratings['business_id'][i]) \n",
    "                                                     for i in range(len(sample_ratings)))\n",
    "\n",
    "print(repr(interactions))\n",
    "\n",
    "item_features = dataset.build_item_features(((sample_business['business_id'][i], [sample_business['stars'][i],\n",
    "                             sample_business['review_count'][i]])\n",
    "                                              for i in range(len(sample_business))))\n",
    "\n",
    "print(repr(item_features))"
   ]
  },
  {
   "cell_type": "code",
   "execution_count": 47,
   "metadata": {},
   "outputs": [],
   "source": [
    "#from lightfm import cross_validation\n",
    "from lightfm.cross_validation import random_train_test_split"
   ]
  },
  {
   "cell_type": "code",
   "execution_count": 48,
   "metadata": {
    "scrolled": true
   },
   "outputs": [],
   "source": [
    "my_r=np.random.seed(12345)\n",
    "training, test = random_train_test_split(interactions, test_percentage=0.2, random_state=my_r)"
   ]
  },
  {
   "cell_type": "code",
   "execution_count": 49,
   "metadata": {},
   "outputs": [
    {
     "data": {
      "text/plain": [
       "<2861x28191 sparse matrix of type '<class 'numpy.int32'>'\n",
       "\twith 39306 stored elements in COOrdinate format>"
      ]
     },
     "execution_count": 49,
     "metadata": {},
     "output_type": "execute_result"
    }
   ],
   "source": [
    "training"
   ]
  },
  {
   "cell_type": "code",
   "execution_count": 50,
   "metadata": {},
   "outputs": [
    {
     "data": {
      "text/plain": [
       "<2861x28191 sparse matrix of type '<class 'numpy.int32'>'\n",
       "\twith 9827 stored elements in COOrdinate format>"
      ]
     },
     "execution_count": 50,
     "metadata": {},
     "output_type": "execute_result"
    }
   ],
   "source": [
    "test"
   ]
  },
  {
   "cell_type": "code",
   "execution_count": 51,
   "metadata": {},
   "outputs": [
    {
     "data": {
      "text/plain": [
       "<lightfm.lightfm.LightFM at 0x1a682bae80>"
      ]
     },
     "execution_count": 51,
     "metadata": {},
     "output_type": "execute_result"
    }
   ],
   "source": [
    "# FM\n",
    "model = LightFM(loss='warp')\n",
    "model.fit(training,epochs=20,item_features=item_features)"
   ]
  },
  {
   "cell_type": "code",
   "execution_count": 52,
   "metadata": {
    "scrolled": false
   },
   "outputs": [
    {
     "name": "stdout",
     "output_type": "stream",
     "text": [
      "training precision:  0.017056974\n",
      "training AUC:  0.8643199\n"
     ]
    }
   ],
   "source": [
    "train_precision = precision_at_k(model, training,item_features=item_features, k=10).mean()\n",
    "train_auc = auc_score(model, training,item_features=item_features).mean()\n",
    "print(\"training precision: \",train_precision)\n",
    "print(\"training AUC: \",train_auc)"
   ]
  },
  {
   "cell_type": "code",
   "execution_count": 53,
   "metadata": {
    "scrolled": true
   },
   "outputs": [
    {
     "name": "stdout",
     "output_type": "stream",
     "text": [
      "test precision:  0.002324616\n",
      "test AUC:  0.62150717\n"
     ]
    }
   ],
   "source": [
    "test_precision = precision_at_k(model, test,item_features=item_features, k=10).mean()\n",
    "test_auc = auc_score(model, test,item_features=item_features).mean()\n",
    "print(\"test precision: \",test_precision)\n",
    "print(\"test AUC: \",test_auc)"
   ]
  },
  {
   "cell_type": "markdown",
   "metadata": {},
   "source": [
    "# Feature selection 5: states + review_counts"
   ]
  },
  {
   "cell_type": "code",
   "execution_count": 54,
   "metadata": {},
   "outputs": [
    {
     "name": "stdout",
     "output_type": "stream",
     "text": [
      "<2861x28191 sparse matrix of type '<class 'numpy.int32'>'\n",
      "\twith 49133 stored elements in COOrdinate format>\n",
      "<28191x29388 sparse matrix of type '<class 'numpy.float32'>'\n",
      "\twith 84573 stored elements in Compressed Sparse Row format>\n"
     ]
    }
   ],
   "source": [
    "# prepare the dataset\n",
    "dataset = Dataset()\n",
    "dataset.fit((sample_ratings['user_id']),\n",
    "            (sample_ratings['business_id']))\n",
    "\n",
    "dataset.fit_partial(items=(sample_business['business_id']),\n",
    "                    item_features = (sample_business['state']))\n",
    "\n",
    "dataset.fit_partial(items=(sample_business['business_id']),\n",
    "                    item_features = (sample_business['review_count']))\n",
    "\n",
    "\n",
    "\n",
    "(interactions, weights) = dataset.build_interactions((sample_ratings['user_id'][i],sample_ratings['business_id'][i]) \n",
    "                                                     for i in range(len(sample_ratings)))\n",
    "\n",
    "print(repr(interactions))\n",
    "\n",
    "item_features = dataset.build_item_features(((sample_business['business_id'][i], [\n",
    "                             sample_business['state'][i],sample_business['review_count'][i]])\n",
    "                                              for i in range(len(sample_business))))\n",
    "\n",
    "print(repr(item_features))"
   ]
  },
  {
   "cell_type": "code",
   "execution_count": 56,
   "metadata": {},
   "outputs": [],
   "source": [
    "#from lightfm import cross_validation\n",
    "from lightfm.cross_validation import random_train_test_split"
   ]
  },
  {
   "cell_type": "code",
   "execution_count": 57,
   "metadata": {
    "scrolled": true
   },
   "outputs": [],
   "source": [
    "my_r=np.random.seed(12345)\n",
    "training, test = random_train_test_split(interactions, test_percentage=0.2, random_state=my_r)"
   ]
  },
  {
   "cell_type": "code",
   "execution_count": 58,
   "metadata": {},
   "outputs": [
    {
     "data": {
      "text/plain": [
       "<2861x28191 sparse matrix of type '<class 'numpy.int32'>'\n",
       "\twith 39306 stored elements in COOrdinate format>"
      ]
     },
     "execution_count": 58,
     "metadata": {},
     "output_type": "execute_result"
    }
   ],
   "source": [
    "training"
   ]
  },
  {
   "cell_type": "code",
   "execution_count": 59,
   "metadata": {},
   "outputs": [
    {
     "data": {
      "text/plain": [
       "<2861x28191 sparse matrix of type '<class 'numpy.int32'>'\n",
       "\twith 9827 stored elements in COOrdinate format>"
      ]
     },
     "execution_count": 59,
     "metadata": {},
     "output_type": "execute_result"
    }
   ],
   "source": [
    "test"
   ]
  },
  {
   "cell_type": "code",
   "execution_count": 60,
   "metadata": {},
   "outputs": [
    {
     "data": {
      "text/plain": [
       "<lightfm.lightfm.LightFM at 0x1a685234a8>"
      ]
     },
     "execution_count": 60,
     "metadata": {},
     "output_type": "execute_result"
    }
   ],
   "source": [
    "# FM\n",
    "model = LightFM(loss='warp')\n",
    "model.fit(training,epochs=20,item_features=item_features)"
   ]
  },
  {
   "cell_type": "code",
   "execution_count": 61,
   "metadata": {
    "scrolled": false
   },
   "outputs": [
    {
     "name": "stdout",
     "output_type": "stream",
     "text": [
      "training precision:  0.029185599\n",
      "training AUC:  0.93837315\n"
     ]
    }
   ],
   "source": [
    "train_precision = precision_at_k(model, training,item_features=item_features, k=10).mean()\n",
    "train_auc = auc_score(model, training,item_features=item_features).mean()\n",
    "print(\"training precision: \",train_precision)\n",
    "print(\"training AUC: \",train_auc)"
   ]
  },
  {
   "cell_type": "code",
   "execution_count": 62,
   "metadata": {
    "scrolled": true
   },
   "outputs": [
    {
     "name": "stdout",
     "output_type": "stream",
     "text": [
      "test precision:  0.0050371597\n",
      "test AUC:  0.87833965\n"
     ]
    }
   ],
   "source": [
    "test_precision = precision_at_k(model, test,item_features=item_features, k=10).mean()\n",
    "test_auc = auc_score(model, test,item_features=item_features).mean()\n",
    "print(\"test precision: \",test_precision)\n",
    "print(\"test AUC: \",test_auc)"
   ]
  },
  {
   "cell_type": "markdown",
   "metadata": {},
   "source": [
    "So the best feature combination is Feature selection 2: stars + states + review_counts, with precision and AUC as follows:  \n",
    "test precision:  0.0061512887\n",
    "test AUC:  0.8836798"
   ]
  },
  {
   "cell_type": "markdown",
   "metadata": {},
   "source": [
    "# Feature selection 6: stars + states + review_counts + year(users) "
   ]
  },
  {
   "cell_type": "code",
   "execution_count": 70,
   "metadata": {},
   "outputs": [],
   "source": [
    "users['year']=2019-pd.DatetimeIndex(users['yelping_since']).year"
   ]
  },
  {
   "cell_type": "code",
   "execution_count": 73,
   "metadata": {},
   "outputs": [
    {
     "name": "stdout",
     "output_type": "stream",
     "text": [
      "number of users in the sample:  2861\n"
     ]
    }
   ],
   "source": [
    "sample_users=users.loc[users['user_id'].isin(sample_ratings['user_id'])]\n",
    "print(\"number of users in the sample: \",len(sample_users))"
   ]
  },
  {
   "cell_type": "code",
   "execution_count": 75,
   "metadata": {},
   "outputs": [],
   "source": [
    "# reset index\n",
    "sample_users = sample_users.reset_index(drop=True)"
   ]
  },
  {
   "cell_type": "code",
   "execution_count": 76,
   "metadata": {},
   "outputs": [
    {
     "name": "stdout",
     "output_type": "stream",
     "text": [
      "<2861x28191 sparse matrix of type '<class 'numpy.int32'>'\n",
      "\twith 49133 stored elements in COOrdinate format>\n",
      "<28191x29394 sparse matrix of type '<class 'numpy.float32'>'\n",
      "\twith 112528 stored elements in Compressed Sparse Row format>\n",
      "<2861x2875 sparse matrix of type '<class 'numpy.float32'>'\n",
      "\twith 5722 stored elements in Compressed Sparse Row format>\n"
     ]
    }
   ],
   "source": [
    "# prepare the dataset\n",
    "dataset = Dataset()\n",
    "dataset.fit((sample_ratings['user_id']),\n",
    "            (sample_ratings['business_id']))\n",
    "dataset.fit_partial(items=(sample_business['business_id']),\n",
    "                    item_features = (sample_business['stars']))\n",
    "\n",
    "dataset.fit_partial(items=(sample_business['business_id']),\n",
    "                    item_features = (sample_business['state']))\n",
    "\n",
    "dataset.fit_partial(items=(sample_business['business_id']),\n",
    "                    item_features = (sample_business['review_count']))\n",
    "\n",
    "dataset.fit_partial(users=(sample_users['user_id']),\n",
    "                    user_features = (sample_users['year']))\n",
    "\n",
    "\n",
    "(interactions, weights) = dataset.build_interactions((sample_ratings['user_id'][i],sample_ratings['business_id'][i]) \n",
    "                                                     for i in range(len(sample_ratings)))\n",
    "\n",
    "print(repr(interactions))\n",
    "\n",
    "item_features = dataset.build_item_features(((sample_business['business_id'][i], [sample_business['stars'][i],\n",
    "                             sample_business['state'][i],sample_business['review_count'][i]])\n",
    "                                              for i in range(len(sample_business))))\n",
    "\n",
    "user_features = dataset.build_user_features(((sample_users['user_id'][i], [sample_users['year'][i]])\n",
    "                                              for i in range(len(sample_users))))\n",
    "\n",
    "print(repr(item_features))\n",
    "print(repr(user_features))"
   ]
  },
  {
   "cell_type": "code",
   "execution_count": 77,
   "metadata": {},
   "outputs": [],
   "source": [
    "#from lightfm import cross_validation\n",
    "from lightfm.cross_validation import random_train_test_split"
   ]
  },
  {
   "cell_type": "code",
   "execution_count": 78,
   "metadata": {
    "scrolled": true
   },
   "outputs": [],
   "source": [
    "my_r=np.random.seed(12345)\n",
    "training, test = random_train_test_split(interactions, test_percentage=0.2, random_state=my_r)"
   ]
  },
  {
   "cell_type": "code",
   "execution_count": 79,
   "metadata": {},
   "outputs": [
    {
     "data": {
      "text/plain": [
       "<2861x28191 sparse matrix of type '<class 'numpy.int32'>'\n",
       "\twith 39306 stored elements in COOrdinate format>"
      ]
     },
     "execution_count": 79,
     "metadata": {},
     "output_type": "execute_result"
    }
   ],
   "source": [
    "training"
   ]
  },
  {
   "cell_type": "code",
   "execution_count": 80,
   "metadata": {},
   "outputs": [
    {
     "data": {
      "text/plain": [
       "<2861x28191 sparse matrix of type '<class 'numpy.int32'>'\n",
       "\twith 9827 stored elements in COOrdinate format>"
      ]
     },
     "execution_count": 80,
     "metadata": {},
     "output_type": "execute_result"
    }
   ],
   "source": [
    "test"
   ]
  },
  {
   "cell_type": "code",
   "execution_count": 82,
   "metadata": {},
   "outputs": [
    {
     "data": {
      "text/plain": [
       "<lightfm.lightfm.LightFM at 0x1a68523710>"
      ]
     },
     "execution_count": 82,
     "metadata": {},
     "output_type": "execute_result"
    }
   ],
   "source": [
    "# FM\n",
    "model = LightFM(loss='warp')\n",
    "model.fit(training,epochs=20,item_features=item_features,user_features=user_features)"
   ]
  },
  {
   "cell_type": "code",
   "execution_count": 83,
   "metadata": {
    "scrolled": false
   },
   "outputs": [
    {
     "name": "stdout",
     "output_type": "stream",
     "text": [
      "training precision:  0.028346732\n",
      "training AUC:  0.9282547\n"
     ]
    }
   ],
   "source": [
    "train_precision = precision_at_k(model, training,item_features=item_features,user_features=user_features, k=10).mean()\n",
    "train_auc = auc_score(model, training,item_features=item_features,user_features=user_features).mean()\n",
    "print(\"training precision: \",train_precision)\n",
    "print(\"training AUC: \",train_auc)"
   ]
  },
  {
   "cell_type": "code",
   "execution_count": 84,
   "metadata": {
    "scrolled": true
   },
   "outputs": [
    {
     "name": "stdout",
     "output_type": "stream",
     "text": [
      "test precision:  0.005154639\n",
      "test AUC:  0.8852935\n"
     ]
    }
   ],
   "source": [
    "test_precision = precision_at_k(model, test,item_features=item_features, user_features=user_features,k=10).mean()\n",
    "test_auc = auc_score(model, test,item_features=item_features,user_features=user_features).mean()\n",
    "print(\"test precision: \",test_precision)\n",
    "print(\"test AUC: \",test_auc)"
   ]
  }
 ],
 "metadata": {
  "kernelspec": {
   "display_name": "Python 3",
   "language": "python",
   "name": "python3"
  },
  "language_info": {
   "codemirror_mode": {
    "name": "ipython",
    "version": 3
   },
   "file_extension": ".py",
   "mimetype": "text/x-python",
   "name": "python",
   "nbconvert_exporter": "python",
   "pygments_lexer": "ipython3",
   "version": "3.7.3"
  }
 },
 "nbformat": 4,
 "nbformat_minor": 2
}
