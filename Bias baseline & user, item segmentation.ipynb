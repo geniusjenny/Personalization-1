{
 "cells": [
  {
   "cell_type": "markdown",
   "metadata": {},
   "source": [
    "# Outline"
   ]
  },
  {
   "cell_type": "markdown",
   "metadata": {},
   "source": [
    "## Bias baseline"
   ]
  },
  {
   "cell_type": "markdown",
   "metadata": {},
   "source": [
    "RMSE overall & for user segments & for item segments\n",
    "\n",
    "RMSE is smaller for more active users / more popular items"
   ]
  },
  {
   "cell_type": "code",
   "execution_count": 2,
   "metadata": {},
   "outputs": [],
   "source": [
    "import pandas as pd\n",
    "import json\n",
    "from tqdm import tqdm\n",
    "import numpy as np\n",
    "\n",
    "from sklearn.metrics import mean_squared_error\n",
    "from math import sqrt"
   ]
  },
  {
   "cell_type": "code",
   "execution_count": 3,
   "metadata": {},
   "outputs": [
    {
     "name": "stderr",
     "output_type": "stream",
     "text": [
      "100%|██████████| 6685900/6685900 [01:14<00:00, 89324.30it/s] \n"
     ]
    }
   ],
   "source": [
    "line_count = len(open(\"review.json\").readlines())\n",
    "user_ids, business_ids, stars, dates = [], [], [], []\n",
    "with open(\"review.json\") as f:\n",
    "    for line in tqdm(f, total=line_count):\n",
    "        blob = json.loads(line)\n",
    "        user_ids += [blob[\"user_id\"]]\n",
    "        business_ids += [blob[\"business_id\"]]\n",
    "        stars += [blob[\"stars\"]]\n",
    "        dates += [blob[\"date\"]]\n",
    "ratings = pd.DataFrame(\n",
    "{\"user_id\": user_ids, \"business_id\": business_ids, \"rating\": stars, \"date\": dates}\n",
    ")\n",
    "user_counts = ratings[\"user_id\"].value_counts()\n",
    "active_users = user_counts.loc[user_counts >= 5].index.tolist()"
   ]
  },
  {
   "cell_type": "code",
   "execution_count": 4,
   "metadata": {},
   "outputs": [],
   "source": [
    "# Filter active users\n",
    "ratings = ratings[ratings.user_id.isin(active_users)].sort_values(by=['user_id', 'date'])"
   ]
  },
  {
   "cell_type": "code",
   "execution_count": 4,
   "metadata": {},
   "outputs": [
    {
     "data": {
      "text/html": [
       "<div>\n",
       "<style scoped>\n",
       "    .dataframe tbody tr th:only-of-type {\n",
       "        vertical-align: middle;\n",
       "    }\n",
       "\n",
       "    .dataframe tbody tr th {\n",
       "        vertical-align: top;\n",
       "    }\n",
       "\n",
       "    .dataframe thead th {\n",
       "        text-align: right;\n",
       "    }\n",
       "</style>\n",
       "<table border=\"1\" class=\"dataframe\">\n",
       "  <thead>\n",
       "    <tr style=\"text-align: right;\">\n",
       "      <th></th>\n",
       "      <th>user_id</th>\n",
       "      <th>business_id</th>\n",
       "      <th>rating</th>\n",
       "      <th>date</th>\n",
       "    </tr>\n",
       "  </thead>\n",
       "  <tbody>\n",
       "    <tr>\n",
       "      <th>5178360</th>\n",
       "      <td>---1lKK3aKOuomHnwAkAow</td>\n",
       "      <td>5cbsjFtrntUAeUx51FaFTg</td>\n",
       "      <td>4.0</td>\n",
       "      <td>2008-11-11 04:31:46</td>\n",
       "    </tr>\n",
       "    <tr>\n",
       "      <th>5934075</th>\n",
       "      <td>---1lKK3aKOuomHnwAkAow</td>\n",
       "      <td>--9e1ONYQuAa-CB_Rrw7Tw</td>\n",
       "      <td>4.0</td>\n",
       "      <td>2008-11-11 04:40:05</td>\n",
       "    </tr>\n",
       "    <tr>\n",
       "      <th>4312893</th>\n",
       "      <td>---1lKK3aKOuomHnwAkAow</td>\n",
       "      <td>ifEHr-ZnGFSKgJVsywiAFg</td>\n",
       "      <td>5.0</td>\n",
       "      <td>2009-01-16 21:49:36</td>\n",
       "    </tr>\n",
       "    <tr>\n",
       "      <th>2915094</th>\n",
       "      <td>---1lKK3aKOuomHnwAkAow</td>\n",
       "      <td>kosTPb88O4Q0XGbVbEOGCA</td>\n",
       "      <td>4.0</td>\n",
       "      <td>2010-10-16 23:27:02</td>\n",
       "    </tr>\n",
       "    <tr>\n",
       "      <th>809678</th>\n",
       "      <td>---1lKK3aKOuomHnwAkAow</td>\n",
       "      <td>rq5dgoksPHkJwJNQKlGQ7w</td>\n",
       "      <td>5.0</td>\n",
       "      <td>2010-10-16 23:31:28</td>\n",
       "    </tr>\n",
       "  </tbody>\n",
       "</table>\n",
       "</div>"
      ],
      "text/plain": [
       "                        user_id             business_id  rating  \\\n",
       "5178360  ---1lKK3aKOuomHnwAkAow  5cbsjFtrntUAeUx51FaFTg     4.0   \n",
       "5934075  ---1lKK3aKOuomHnwAkAow  --9e1ONYQuAa-CB_Rrw7Tw     4.0   \n",
       "4312893  ---1lKK3aKOuomHnwAkAow  ifEHr-ZnGFSKgJVsywiAFg     5.0   \n",
       "2915094  ---1lKK3aKOuomHnwAkAow  kosTPb88O4Q0XGbVbEOGCA     4.0   \n",
       "809678   ---1lKK3aKOuomHnwAkAow  rq5dgoksPHkJwJNQKlGQ7w     5.0   \n",
       "\n",
       "                        date  \n",
       "5178360  2008-11-11 04:31:46  \n",
       "5934075  2008-11-11 04:40:05  \n",
       "4312893  2009-01-16 21:49:36  \n",
       "2915094  2010-10-16 23:27:02  \n",
       "809678   2010-10-16 23:31:28  "
      ]
     },
     "execution_count": 4,
     "metadata": {},
     "output_type": "execute_result"
    }
   ],
   "source": [
    "# save and load the dataframe\n",
    "#ratings.to_pickle('ratings.pkl')\n",
    "#business.to_pickle('business.pkl')\n",
    "ratings = pd.read_pickle('ratings.pkl')\n",
    "#business = pd.read_pickle('business.pkl')\n",
    "ratings.head()"
   ]
  },
  {
   "cell_type": "code",
   "execution_count": 4,
   "metadata": {},
   "outputs": [
    {
     "name": "stdout",
     "output_type": "stream",
     "text": [
      "Number of active users: 286130\n"
     ]
    }
   ],
   "source": [
    "# Number of active users\n",
    "print(\"Number of active users:\", len(active_users))"
   ]
  },
  {
   "cell_type": "code",
   "execution_count": 5,
   "metadata": {},
   "outputs": [
    {
     "name": "stdout",
     "output_type": "stream",
     "text": [
      "Number of items: 185723\n"
     ]
    }
   ],
   "source": [
    "# Get review counts for items\n",
    "item_counts = ratings[\"business_id\"].value_counts()\n",
    "items = item_counts.index.tolist()\n",
    "# Number of items\n",
    "print(\"Number of items:\", len(items))"
   ]
  },
  {
   "cell_type": "markdown",
   "metadata": {},
   "source": [
    "## User Segmentation"
   ]
  },
  {
   "cell_type": "markdown",
   "metadata": {},
   "source": [
    "We used the review count of a user to separate users into 3 groups: not so active, average and active."
   ]
  },
  {
   "cell_type": "code",
   "execution_count": 12,
   "metadata": {},
   "outputs": [
    {
     "data": {
      "text/html": [
       "<div>\n",
       "<style scoped>\n",
       "    .dataframe tbody tr th:only-of-type {\n",
       "        vertical-align: middle;\n",
       "    }\n",
       "\n",
       "    .dataframe tbody tr th {\n",
       "        vertical-align: top;\n",
       "    }\n",
       "\n",
       "    .dataframe thead th {\n",
       "        text-align: right;\n",
       "    }\n",
       "</style>\n",
       "<table border=\"1\" class=\"dataframe\">\n",
       "  <thead>\n",
       "    <tr style=\"text-align: right;\">\n",
       "      <th></th>\n",
       "      <th>user_id</th>\n",
       "      <th>review_count</th>\n",
       "    </tr>\n",
       "  </thead>\n",
       "  <tbody>\n",
       "    <tr>\n",
       "      <th>0</th>\n",
       "      <td>CxDOIDnH8gp9KXzpBHJYXw</td>\n",
       "      <td>4129</td>\n",
       "    </tr>\n",
       "    <tr>\n",
       "      <th>1</th>\n",
       "      <td>bLbSNkLggFnqwNNzzq-Ijw</td>\n",
       "      <td>2354</td>\n",
       "    </tr>\n",
       "    <tr>\n",
       "      <th>2</th>\n",
       "      <td>PKEzKWv_FktMm2mGPjwd0Q</td>\n",
       "      <td>1822</td>\n",
       "    </tr>\n",
       "    <tr>\n",
       "      <th>3</th>\n",
       "      <td>ELcQDlf69kb-ihJfxZyL0A</td>\n",
       "      <td>1764</td>\n",
       "    </tr>\n",
       "    <tr>\n",
       "      <th>4</th>\n",
       "      <td>DK57YibC5ShBmqQl97CKog</td>\n",
       "      <td>1727</td>\n",
       "    </tr>\n",
       "  </tbody>\n",
       "</table>\n",
       "</div>"
      ],
      "text/plain": [
       "                  user_id  review_count\n",
       "0  CxDOIDnH8gp9KXzpBHJYXw          4129\n",
       "1  bLbSNkLggFnqwNNzzq-Ijw          2354\n",
       "2  PKEzKWv_FktMm2mGPjwd0Q          1822\n",
       "3  ELcQDlf69kb-ihJfxZyL0A          1764\n",
       "4  DK57YibC5ShBmqQl97CKog          1727"
      ]
     },
     "execution_count": 12,
     "metadata": {},
     "output_type": "execute_result"
    }
   ],
   "source": [
    "# See distribution of users' review count\n",
    "user_counts = ratings[\"user_id\"].value_counts()\n",
    "users = user_counts.index.tolist()\n",
    "d = {'review_count' : user_counts}\n",
    "activity = pd.DataFrame(d)\n",
    "activity = activity.reset_index()\n",
    "activity = activity.rename(columns={\"index\": \"user_id\"})\n",
    "\n",
    "activity.head()"
   ]
  },
  {
   "cell_type": "code",
   "execution_count": 14,
   "metadata": {},
   "outputs": [
    {
     "data": {
      "image/png": "[encoded data removed]",
      "text/plain": [
       "<Figure size 432x288 with 1 Axes>"
      ]
     },
     "metadata": {
      "needs_background": "light"
     },
     "output_type": "display_data"
    }
   ],
   "source": [
    "import matplotlib.pyplot as plt\n",
    "num_bins = 50\n",
    "plt.hist(user_counts, num_bins, facecolor='blue', alpha=0.5)\n",
    "plt.xlabel('review count')\n",
    "plt.ylabel('count of users')\n",
    "plt.title(r\"Histogram of users' review count\")\n",
    "plt.show()"
   ]
  },
  {
   "cell_type": "code",
   "execution_count": 15,
   "metadata": {},
   "outputs": [
    {
     "data": {
      "image/png": "[encoded data removed]",
      "text/plain": [
       "<Figure size 432x288 with 1 Axes>"
      ]
     },
     "metadata": {
      "needs_background": "light"
     },
     "output_type": "display_data"
    }
   ],
   "source": [
    "num_bins = 50\n",
    "plt.hist(user_counts.loc[user_counts < 100], num_bins, facecolor='blue', alpha=0.5)\n",
    "plt.xlabel('review count')\n",
    "plt.ylabel('count of users')\n",
    "plt.title(r\"Histogram of users' review count (users with <100 reviews)\")\n",
    "plt.show()"
   ]
  },
  {
   "cell_type": "code",
   "execution_count": 16,
   "metadata": {},
   "outputs": [
    {
     "data": {
      "text/html": [
       "<div>\n",
       "<style scoped>\n",
       "    .dataframe tbody tr th:only-of-type {\n",
       "        vertical-align: middle;\n",
       "    }\n",
       "\n",
       "    .dataframe tbody tr th {\n",
       "        vertical-align: top;\n",
       "    }\n",
       "\n",
       "    .dataframe thead th {\n",
       "        text-align: right;\n",
       "    }\n",
       "</style>\n",
       "<table border=\"1\" class=\"dataframe\">\n",
       "  <thead>\n",
       "    <tr style=\"text-align: right;\">\n",
       "      <th></th>\n",
       "      <th>review_count</th>\n",
       "    </tr>\n",
       "  </thead>\n",
       "  <tbody>\n",
       "    <tr>\n",
       "      <th>count</th>\n",
       "      <td>286130.000000</td>\n",
       "    </tr>\n",
       "    <tr>\n",
       "      <th>mean</th>\n",
       "      <td>15.860874</td>\n",
       "    </tr>\n",
       "    <tr>\n",
       "      <th>std</th>\n",
       "      <td>32.607378</td>\n",
       "    </tr>\n",
       "    <tr>\n",
       "      <th>min</th>\n",
       "      <td>5.000000</td>\n",
       "    </tr>\n",
       "    <tr>\n",
       "      <th>25%</th>\n",
       "      <td>6.000000</td>\n",
       "    </tr>\n",
       "    <tr>\n",
       "      <th>50%</th>\n",
       "      <td>8.000000</td>\n",
       "    </tr>\n",
       "    <tr>\n",
       "      <th>75%</th>\n",
       "      <td>15.000000</td>\n",
       "    </tr>\n",
       "    <tr>\n",
       "      <th>max</th>\n",
       "      <td>4129.000000</td>\n",
       "    </tr>\n",
       "  </tbody>\n",
       "</table>\n",
       "</div>"
      ],
      "text/plain": [
       "        review_count\n",
       "count  286130.000000\n",
       "mean       15.860874\n",
       "std        32.607378\n",
       "min         5.000000\n",
       "25%         6.000000\n",
       "50%         8.000000\n",
       "75%        15.000000\n",
       "max      4129.000000"
      ]
     },
     "execution_count": 16,
     "metadata": {},
     "output_type": "execute_result"
    }
   ],
   "source": [
    "# summary statistics\n",
    "activity.describe()"
   ]
  },
  {
   "cell_type": "code",
   "execution_count": 14,
   "metadata": {},
   "outputs": [
    {
     "data": {
      "text/plain": [
       "not so active    163306\n",
       "average           74880\n",
       "very active       47944\n",
       "Name: label, dtype: int64"
      ]
     },
     "execution_count": 14,
     "metadata": {},
     "output_type": "execute_result"
    }
   ],
   "source": [
    "# Split users into 3 segments based on review count\n",
    "activity['label'] = pd.cut(activity['review_count'], bins=[5, 10, 20, float('Inf')], right = False,\n",
    "                             labels=['not so active', 'average', 'very active'])\n",
    "\n",
    "activity['label'].value_counts()"
   ]
  },
  {
   "cell_type": "code",
   "execution_count": 55,
   "metadata": {},
   "outputs": [
    {
     "data": {
      "text/html": [
       "<div>\n",
       "<style scoped>\n",
       "    .dataframe tbody tr th:only-of-type {\n",
       "        vertical-align: middle;\n",
       "    }\n",
       "\n",
       "    .dataframe tbody tr th {\n",
       "        vertical-align: top;\n",
       "    }\n",
       "\n",
       "    .dataframe thead th {\n",
       "        text-align: right;\n",
       "    }\n",
       "</style>\n",
       "<table border=\"1\" class=\"dataframe\">\n",
       "  <thead>\n",
       "    <tr style=\"text-align: right;\">\n",
       "      <th></th>\n",
       "      <th>business_id</th>\n",
       "      <th>review_count</th>\n",
       "    </tr>\n",
       "  </thead>\n",
       "  <tbody>\n",
       "    <tr>\n",
       "      <th>0</th>\n",
       "      <td>4JNXUYY8wbaaDmk3BPzlWw</td>\n",
       "      <td>4627</td>\n",
       "    </tr>\n",
       "    <tr>\n",
       "      <th>1</th>\n",
       "      <td>RESDUcs7fIiihp38-d6_6g</td>\n",
       "      <td>4533</td>\n",
       "    </tr>\n",
       "    <tr>\n",
       "      <th>2</th>\n",
       "      <td>K7lWdNUhCbcnEvI0NhGewg</td>\n",
       "      <td>3877</td>\n",
       "    </tr>\n",
       "    <tr>\n",
       "      <th>3</th>\n",
       "      <td>DkYS3arLOhA8si5uUEmHOw</td>\n",
       "      <td>3388</td>\n",
       "    </tr>\n",
       "    <tr>\n",
       "      <th>4</th>\n",
       "      <td>FaHADZARwnY4yvlvpnsfGA</td>\n",
       "      <td>2931</td>\n",
       "    </tr>\n",
       "  </tbody>\n",
       "</table>\n",
       "</div>"
      ],
      "text/plain": [
       "              business_id  review_count\n",
       "0  4JNXUYY8wbaaDmk3BPzlWw          4627\n",
       "1  RESDUcs7fIiihp38-d6_6g          4533\n",
       "2  K7lWdNUhCbcnEvI0NhGewg          3877\n",
       "3  DkYS3arLOhA8si5uUEmHOw          3388\n",
       "4  FaHADZARwnY4yvlvpnsfGA          2931"
      ]
     },
     "execution_count": 55,
     "metadata": {},
     "output_type": "execute_result"
    }
   ],
   "source": [
    "# obtain item counts\n",
    "item_counts = ratings[\"business_id\"].value_counts()\n",
    "activity = pd.DataFrame({'review_count' : item_counts})\n",
    "activity = activity.reset_index()\n",
    "item_activity = activity.rename(columns={\"index\": \"business_id\"})\n",
    "\n",
    "item_activity.head()"
   ]
  },
  {
   "cell_type": "code",
   "execution_count": 56,
   "metadata": {},
   "outputs": [
    {
     "data": {
      "text/html": [
       "<div>\n",
       "<style scoped>\n",
       "    .dataframe tbody tr th:only-of-type {\n",
       "        vertical-align: middle;\n",
       "    }\n",
       "\n",
       "    .dataframe tbody tr th {\n",
       "        vertical-align: top;\n",
       "    }\n",
       "\n",
       "    .dataframe thead th {\n",
       "        text-align: right;\n",
       "    }\n",
       "</style>\n",
       "<table border=\"1\" class=\"dataframe\">\n",
       "  <thead>\n",
       "    <tr style=\"text-align: right;\">\n",
       "      <th></th>\n",
       "      <th>review_count</th>\n",
       "    </tr>\n",
       "  </thead>\n",
       "  <tbody>\n",
       "    <tr>\n",
       "      <th>count</th>\n",
       "      <td>185723.000000</td>\n",
       "    </tr>\n",
       "    <tr>\n",
       "      <th>mean</th>\n",
       "      <td>24.435703</td>\n",
       "    </tr>\n",
       "    <tr>\n",
       "      <th>std</th>\n",
       "      <td>74.189213</td>\n",
       "    </tr>\n",
       "    <tr>\n",
       "      <th>min</th>\n",
       "      <td>1.000000</td>\n",
       "    </tr>\n",
       "    <tr>\n",
       "      <th>25%</th>\n",
       "      <td>3.000000</td>\n",
       "    </tr>\n",
       "    <tr>\n",
       "      <th>50%</th>\n",
       "      <td>6.000000</td>\n",
       "    </tr>\n",
       "    <tr>\n",
       "      <th>75%</th>\n",
       "      <td>18.000000</td>\n",
       "    </tr>\n",
       "    <tr>\n",
       "      <th>max</th>\n",
       "      <td>4627.000000</td>\n",
       "    </tr>\n",
       "  </tbody>\n",
       "</table>\n",
       "</div>"
      ],
      "text/plain": [
       "        review_count\n",
       "count  185723.000000\n",
       "mean       24.435703\n",
       "std        74.189213\n",
       "min         1.000000\n",
       "25%         3.000000\n",
       "50%         6.000000\n",
       "75%        18.000000\n",
       "max      4627.000000"
      ]
     },
     "execution_count": 56,
     "metadata": {},
     "output_type": "execute_result"
    }
   ],
   "source": [
    "item_activity.describe()"
   ]
  },
  {
   "cell_type": "code",
   "execution_count": 65,
   "metadata": {},
   "outputs": [
    {
     "data": {
      "text/plain": [
       "unpopular    113330\n",
       "moderate      70549\n",
       "popular        1844\n",
       "Name: label, dtype: int64"
      ]
     },
     "execution_count": 65,
     "metadata": {},
     "output_type": "execute_result"
    }
   ],
   "source": [
    "# Group items into popular (>=300 ratings), moderate (10-300 ratings) and unpopular (<=10 ratings)\n",
    "item_activity['label'] = pd.cut(item_activity['review_count'], bins=[0, 10, 300, float('Inf')], right = False,\n",
    "                             labels=['unpopular', 'moderate', 'popular'])\n",
    "\n",
    "item_activity['label'].value_counts()"
   ]
  },
  {
   "cell_type": "markdown",
   "metadata": {},
   "source": [
    "## Train and test split"
   ]
  },
  {
   "cell_type": "code",
   "execution_count": 5,
   "metadata": {},
   "outputs": [],
   "source": [
    "# add integer user ID and item ID, ALS can only read interger user ID and item ID\n",
    "ratings['user_code'] = ratings.user_id.astype('category').cat.codes\n",
    "ratings['item_code'] = ratings.business_id.astype('category').cat.codes\n",
    "\n",
    "# create dictionary (mapping)\n",
    "user_dict = dict(zip(ratings.user_code, ratings.user_id))\n",
    "item_dict = dict(zip(ratings.item_code, ratings.business_id))"
   ]
  },
  {
   "cell_type": "code",
   "execution_count": 6,
   "metadata": {},
   "outputs": [],
   "source": [
    "# select the most recent rating as test, the rest as training\n",
    "test = ratings.groupby('user_id').tail(1)\n",
    "train = ratings.drop(test.index)"
   ]
  },
  {
   "cell_type": "code",
   "execution_count": 7,
   "metadata": {},
   "outputs": [
    {
     "data": {
      "text/html": [
       "<div>\n",
       "<style scoped>\n",
       "    .dataframe tbody tr th:only-of-type {\n",
       "        vertical-align: middle;\n",
       "    }\n",
       "\n",
       "    .dataframe tbody tr th {\n",
       "        vertical-align: top;\n",
       "    }\n",
       "\n",
       "    .dataframe thead th {\n",
       "        text-align: right;\n",
       "    }\n",
       "</style>\n",
       "<table border=\"1\" class=\"dataframe\">\n",
       "  <thead>\n",
       "    <tr style=\"text-align: right;\">\n",
       "      <th></th>\n",
       "      <th>user_id</th>\n",
       "      <th>business_id</th>\n",
       "      <th>rating</th>\n",
       "      <th>date</th>\n",
       "      <th>user_code</th>\n",
       "      <th>item_code</th>\n",
       "    </tr>\n",
       "  </thead>\n",
       "  <tbody>\n",
       "    <tr>\n",
       "      <th>5178360</th>\n",
       "      <td>---1lKK3aKOuomHnwAkAow</td>\n",
       "      <td>5cbsjFtrntUAeUx51FaFTg</td>\n",
       "      <td>4.0</td>\n",
       "      <td>2008-11-11 04:31:46</td>\n",
       "      <td>0</td>\n",
       "      <td>19063</td>\n",
       "    </tr>\n",
       "    <tr>\n",
       "      <th>5934075</th>\n",
       "      <td>---1lKK3aKOuomHnwAkAow</td>\n",
       "      <td>--9e1ONYQuAa-CB_Rrw7Tw</td>\n",
       "      <td>4.0</td>\n",
       "      <td>2008-11-11 04:40:05</td>\n",
       "      <td>0</td>\n",
       "      <td>5</td>\n",
       "    </tr>\n",
       "    <tr>\n",
       "      <th>4312893</th>\n",
       "      <td>---1lKK3aKOuomHnwAkAow</td>\n",
       "      <td>ifEHr-ZnGFSKgJVsywiAFg</td>\n",
       "      <td>5.0</td>\n",
       "      <td>2009-01-16 21:49:36</td>\n",
       "      <td>0</td>\n",
       "      <td>135553</td>\n",
       "    </tr>\n",
       "    <tr>\n",
       "      <th>2915094</th>\n",
       "      <td>---1lKK3aKOuomHnwAkAow</td>\n",
       "      <td>kosTPb88O4Q0XGbVbEOGCA</td>\n",
       "      <td>4.0</td>\n",
       "      <td>2010-10-16 23:27:02</td>\n",
       "      <td>0</td>\n",
       "      <td>141792</td>\n",
       "    </tr>\n",
       "    <tr>\n",
       "      <th>809678</th>\n",
       "      <td>---1lKK3aKOuomHnwAkAow</td>\n",
       "      <td>rq5dgoksPHkJwJNQKlGQ7w</td>\n",
       "      <td>5.0</td>\n",
       "      <td>2010-10-16 23:31:28</td>\n",
       "      <td>0</td>\n",
       "      <td>162126</td>\n",
       "    </tr>\n",
       "  </tbody>\n",
       "</table>\n",
       "</div>"
      ],
      "text/plain": [
       "                        user_id             business_id  rating  \\\n",
       "5178360  ---1lKK3aKOuomHnwAkAow  5cbsjFtrntUAeUx51FaFTg     4.0   \n",
       "5934075  ---1lKK3aKOuomHnwAkAow  --9e1ONYQuAa-CB_Rrw7Tw     4.0   \n",
       "4312893  ---1lKK3aKOuomHnwAkAow  ifEHr-ZnGFSKgJVsywiAFg     5.0   \n",
       "2915094  ---1lKK3aKOuomHnwAkAow  kosTPb88O4Q0XGbVbEOGCA     4.0   \n",
       "809678   ---1lKK3aKOuomHnwAkAow  rq5dgoksPHkJwJNQKlGQ7w     5.0   \n",
       "\n",
       "                        date  user_code  item_code  \n",
       "5178360  2008-11-11 04:31:46          0      19063  \n",
       "5934075  2008-11-11 04:40:05          0          5  \n",
       "4312893  2009-01-16 21:49:36          0     135553  \n",
       "2915094  2010-10-16 23:27:02          0     141792  \n",
       "809678   2010-10-16 23:31:28          0     162126  "
      ]
     },
     "execution_count": 7,
     "metadata": {},
     "output_type": "execute_result"
    }
   ],
   "source": [
    "train.head()"
   ]
  },
  {
   "cell_type": "markdown",
   "metadata": {},
   "source": [
    "## Bias baseline model"
   ]
  },
  {
   "cell_type": "code",
   "execution_count": 8,
   "metadata": {},
   "outputs": [],
   "source": [
    "# overall average rating\n",
    "overall_avg = train['rating'].mean()"
   ]
  },
  {
   "cell_type": "code",
   "execution_count": 9,
   "metadata": {},
   "outputs": [
    {
     "data": {
      "text/html": [
       "<div>\n",
       "<style scoped>\n",
       "    .dataframe tbody tr th:only-of-type {\n",
       "        vertical-align: middle;\n",
       "    }\n",
       "\n",
       "    .dataframe tbody tr th {\n",
       "        vertical-align: top;\n",
       "    }\n",
       "\n",
       "    .dataframe thead th {\n",
       "        text-align: right;\n",
       "    }\n",
       "</style>\n",
       "<table border=\"1\" class=\"dataframe\">\n",
       "  <thead>\n",
       "    <tr style=\"text-align: right;\">\n",
       "      <th></th>\n",
       "      <th>user_bias</th>\n",
       "    </tr>\n",
       "    <tr>\n",
       "      <th>user_id</th>\n",
       "      <th></th>\n",
       "    </tr>\n",
       "  </thead>\n",
       "  <tbody>\n",
       "    <tr>\n",
       "      <th>---1lKK3aKOuomHnwAkAow</th>\n",
       "      <td>0.259476</td>\n",
       "    </tr>\n",
       "    <tr>\n",
       "      <th>--0kuuLmuYBe3Rmu0Iycww</th>\n",
       "      <td>-0.293852</td>\n",
       "    </tr>\n",
       "    <tr>\n",
       "      <th>--2HUmLkcNHZp0xw6AMBPg</th>\n",
       "      <td>0.829727</td>\n",
       "    </tr>\n",
       "    <tr>\n",
       "      <th>--2vR0DIsmQ6WfcSzKWigw</th>\n",
       "      <td>0.369249</td>\n",
       "    </tr>\n",
       "    <tr>\n",
       "      <th>--3WaS23LcIXtxyFULJHTA</th>\n",
       "      <td>0.180174</td>\n",
       "    </tr>\n",
       "  </tbody>\n",
       "</table>\n",
       "</div>"
      ],
      "text/plain": [
       "                        user_bias\n",
       "user_id                          \n",
       "---1lKK3aKOuomHnwAkAow   0.259476\n",
       "--0kuuLmuYBe3Rmu0Iycww  -0.293852\n",
       "--2HUmLkcNHZp0xw6AMBPg   0.829727\n",
       "--2vR0DIsmQ6WfcSzKWigw   0.369249\n",
       "--3WaS23LcIXtxyFULJHTA   0.180174"
      ]
     },
     "execution_count": 9,
     "metadata": {},
     "output_type": "execute_result"
    }
   ],
   "source": [
    "# user bias\n",
    "user_average = train.groupby('user_id')['rating'].mean()\n",
    "userBias = pd.DataFrame(user_average) \n",
    "userBias['user_bias'] = userBias['rating'] - overall_avg\n",
    "userBias = userBias.drop(columns=['rating'])\n",
    "userBias.head()"
   ]
  },
  {
   "cell_type": "code",
   "execution_count": 10,
   "metadata": {},
   "outputs": [
    {
     "data": {
      "text/html": [
       "<div>\n",
       "<style scoped>\n",
       "    .dataframe tbody tr th:only-of-type {\n",
       "        vertical-align: middle;\n",
       "    }\n",
       "\n",
       "    .dataframe tbody tr th {\n",
       "        vertical-align: top;\n",
       "    }\n",
       "\n",
       "    .dataframe thead th {\n",
       "        text-align: right;\n",
       "    }\n",
       "</style>\n",
       "<table border=\"1\" class=\"dataframe\">\n",
       "  <thead>\n",
       "    <tr style=\"text-align: right;\">\n",
       "      <th></th>\n",
       "      <th>item_bias</th>\n",
       "    </tr>\n",
       "    <tr>\n",
       "      <th>business_id</th>\n",
       "      <th></th>\n",
       "    </tr>\n",
       "  </thead>\n",
       "  <tbody>\n",
       "    <tr>\n",
       "      <th>--1UhMGODdWsrMastO9DZw</th>\n",
       "      <td>0.501602</td>\n",
       "    </tr>\n",
       "    <tr>\n",
       "      <th>--6MefnULPED_I942VcFNA</th>\n",
       "      <td>-0.448398</td>\n",
       "    </tr>\n",
       "    <tr>\n",
       "      <th>--7zmmkVg-IMGaXbuVd0SQ</th>\n",
       "      <td>0.041076</td>\n",
       "    </tr>\n",
       "    <tr>\n",
       "      <th>--8LPVSo5i0Oo61X01sV9A</th>\n",
       "      <td>-0.748398</td>\n",
       "    </tr>\n",
       "    <tr>\n",
       "      <th>--9QQLMTbFzLJ_oT-ON3Xw</th>\n",
       "      <td>-0.384762</td>\n",
       "    </tr>\n",
       "  </tbody>\n",
       "</table>\n",
       "</div>"
      ],
      "text/plain": [
       "                        item_bias\n",
       "business_id                      \n",
       "--1UhMGODdWsrMastO9DZw   0.501602\n",
       "--6MefnULPED_I942VcFNA  -0.448398\n",
       "--7zmmkVg-IMGaXbuVd0SQ   0.041076\n",
       "--8LPVSo5i0Oo61X01sV9A  -0.748398\n",
       "--9QQLMTbFzLJ_oT-ON3Xw  -0.384762"
      ]
     },
     "execution_count": 10,
     "metadata": {},
     "output_type": "execute_result"
    }
   ],
   "source": [
    "# item bias\n",
    "item_average = train.groupby('business_id')['rating'].mean()\n",
    "itemBias = pd.DataFrame(item_average) \n",
    "itemBias['item_bias'] = itemBias['rating'] - overall_avg\n",
    "itemBias = itemBias.drop(columns=['rating'])\n",
    "itemBias.head()"
   ]
  },
  {
   "cell_type": "code",
   "execution_count": 11,
   "metadata": {},
   "outputs": [
    {
     "data": {
      "text/html": [
       "<div>\n",
       "<style scoped>\n",
       "    .dataframe tbody tr th:only-of-type {\n",
       "        vertical-align: middle;\n",
       "    }\n",
       "\n",
       "    .dataframe tbody tr th {\n",
       "        vertical-align: top;\n",
       "    }\n",
       "\n",
       "    .dataframe thead th {\n",
       "        text-align: right;\n",
       "    }\n",
       "</style>\n",
       "<table border=\"1\" class=\"dataframe\">\n",
       "  <thead>\n",
       "    <tr style=\"text-align: right;\">\n",
       "      <th></th>\n",
       "      <th>user_id</th>\n",
       "      <th>business_id</th>\n",
       "      <th>rating</th>\n",
       "      <th>date</th>\n",
       "      <th>user_code</th>\n",
       "      <th>item_code</th>\n",
       "    </tr>\n",
       "  </thead>\n",
       "  <tbody>\n",
       "    <tr>\n",
       "      <th>4568258</th>\n",
       "      <td>--RlSfc-QmcHFGHyX6aVjA</td>\n",
       "      <td>Oz1Ci9y2MnwYyAjVsoZg5Q</td>\n",
       "      <td>4.0</td>\n",
       "      <td>2018-11-04 07:01:17</td>\n",
       "      <td>24</td>\n",
       "      <td>75557</td>\n",
       "    </tr>\n",
       "    <tr>\n",
       "      <th>5334676</th>\n",
       "      <td>-0OE9Pn8vSK-WjJeRtHDtw</td>\n",
       "      <td>DiE8MZaW3c5LFg0e3YQXbg</td>\n",
       "      <td>5.0</td>\n",
       "      <td>2017-08-24 16:15:14</td>\n",
       "      <td>90</td>\n",
       "      <td>42690</td>\n",
       "    </tr>\n",
       "    <tr>\n",
       "      <th>4433002</th>\n",
       "      <td>-5SOwLPH9eLbTdTJrnjxgg</td>\n",
       "      <td>RZR6AYmF0RJAFmgj8I11Gg</td>\n",
       "      <td>1.0</td>\n",
       "      <td>2018-05-06 00:31:09</td>\n",
       "      <td>446</td>\n",
       "      <td>83044</td>\n",
       "    </tr>\n",
       "    <tr>\n",
       "      <th>4881890</th>\n",
       "      <td>-5i7xSNuaXWwODXqjEEEYQ</td>\n",
       "      <td>78op3fqT0itfTYbELGJvxg</td>\n",
       "      <td>4.0</td>\n",
       "      <td>2017-05-04 19:28:13</td>\n",
       "      <td>462</td>\n",
       "      <td>23436</td>\n",
       "    </tr>\n",
       "    <tr>\n",
       "      <th>3268040</th>\n",
       "      <td>-66F_Lt6WZrRua8ZAjXdqg</td>\n",
       "      <td>_5u--hWbsm3h6j3E_6P0mg</td>\n",
       "      <td>5.0</td>\n",
       "      <td>2018-08-02 03:15:02</td>\n",
       "      <td>490</td>\n",
       "      <td>107859</td>\n",
       "    </tr>\n",
       "    <tr>\n",
       "      <th>...</th>\n",
       "      <td>...</td>\n",
       "      <td>...</td>\n",
       "      <td>...</td>\n",
       "      <td>...</td>\n",
       "      <td>...</td>\n",
       "      <td>...</td>\n",
       "    </tr>\n",
       "    <tr>\n",
       "      <th>5452567</th>\n",
       "      <td>zwYCoSqLldPPL6409lySng</td>\n",
       "      <td>IhD8NkSLwF-207jxMOCY3Q</td>\n",
       "      <td>5.0</td>\n",
       "      <td>2018-04-17 19:23:12</td>\n",
       "      <td>285901</td>\n",
       "      <td>57302</td>\n",
       "    </tr>\n",
       "    <tr>\n",
       "      <th>4242219</th>\n",
       "      <td>zxEGx5TJcizUpbufPNusUQ</td>\n",
       "      <td>LfjgSONDpGF7RJOCv-r9Dg</td>\n",
       "      <td>5.0</td>\n",
       "      <td>2018-01-13 19:56:02</td>\n",
       "      <td>285947</td>\n",
       "      <td>65961</td>\n",
       "    </tr>\n",
       "    <tr>\n",
       "      <th>348347</th>\n",
       "      <td>zz-sXS6jNhVKJQUQtOrmXQ</td>\n",
       "      <td>S51hd1jI1SK7VCtOPkVN2Q</td>\n",
       "      <td>5.0</td>\n",
       "      <td>2016-01-12 21:01:18</td>\n",
       "      <td>286061</td>\n",
       "      <td>84535</td>\n",
       "    </tr>\n",
       "    <tr>\n",
       "      <th>403197</th>\n",
       "      <td>zzBuXG7J0QMrIZeHq-JfSg</td>\n",
       "      <td>OayEFsHTrtc_px-W9n3rWg</td>\n",
       "      <td>5.0</td>\n",
       "      <td>2015-03-14 16:44:28</td>\n",
       "      <td>286075</td>\n",
       "      <td>74428</td>\n",
       "    </tr>\n",
       "    <tr>\n",
       "      <th>2417122</th>\n",
       "      <td>zzIcU_GIjk8RP-Z4FiuAvA</td>\n",
       "      <td>LePAK97ZcoXvigkkfKNFmA</td>\n",
       "      <td>5.0</td>\n",
       "      <td>2018-01-18 19:43:07</td>\n",
       "      <td>286086</td>\n",
       "      <td>65908</td>\n",
       "    </tr>\n",
       "  </tbody>\n",
       "</table>\n",
       "<p>2919 rows × 6 columns</p>\n",
       "</div>"
      ],
      "text/plain": [
       "                        user_id             business_id  rating  \\\n",
       "4568258  --RlSfc-QmcHFGHyX6aVjA  Oz1Ci9y2MnwYyAjVsoZg5Q     4.0   \n",
       "5334676  -0OE9Pn8vSK-WjJeRtHDtw  DiE8MZaW3c5LFg0e3YQXbg     5.0   \n",
       "4433002  -5SOwLPH9eLbTdTJrnjxgg  RZR6AYmF0RJAFmgj8I11Gg     1.0   \n",
       "4881890  -5i7xSNuaXWwODXqjEEEYQ  78op3fqT0itfTYbELGJvxg     4.0   \n",
       "3268040  -66F_Lt6WZrRua8ZAjXdqg  _5u--hWbsm3h6j3E_6P0mg     5.0   \n",
       "...                         ...                     ...     ...   \n",
       "5452567  zwYCoSqLldPPL6409lySng  IhD8NkSLwF-207jxMOCY3Q     5.0   \n",
       "4242219  zxEGx5TJcizUpbufPNusUQ  LfjgSONDpGF7RJOCv-r9Dg     5.0   \n",
       "348347   zz-sXS6jNhVKJQUQtOrmXQ  S51hd1jI1SK7VCtOPkVN2Q     5.0   \n",
       "403197   zzBuXG7J0QMrIZeHq-JfSg  OayEFsHTrtc_px-W9n3rWg     5.0   \n",
       "2417122  zzIcU_GIjk8RP-Z4FiuAvA  LePAK97ZcoXvigkkfKNFmA     5.0   \n",
       "\n",
       "                        date  user_code  item_code  \n",
       "4568258  2018-11-04 07:01:17         24      75557  \n",
       "5334676  2017-08-24 16:15:14         90      42690  \n",
       "4433002  2018-05-06 00:31:09        446      83044  \n",
       "4881890  2017-05-04 19:28:13        462      23436  \n",
       "3268040  2018-08-02 03:15:02        490     107859  \n",
       "...                      ...        ...        ...  \n",
       "5452567  2018-04-17 19:23:12     285901      57302  \n",
       "4242219  2018-01-13 19:56:02     285947      65961  \n",
       "348347   2016-01-12 21:01:18     286061      84535  \n",
       "403197   2015-03-14 16:44:28     286075      74428  \n",
       "2417122  2018-01-18 19:43:07     286086      65908  \n",
       "\n",
       "[2919 rows x 6 columns]"
      ]
     },
     "execution_count": 11,
     "metadata": {},
     "output_type": "execute_result"
    }
   ],
   "source": [
    "test[~test.business_id.isin(train.business_id)]"
   ]
  },
  {
   "cell_type": "markdown",
   "metadata": {},
   "source": [
    "Since some items in test data are not in training data, we simply fill in the item bias with 0."
   ]
  },
  {
   "cell_type": "code",
   "execution_count": 12,
   "metadata": {},
   "outputs": [
    {
     "data": {
      "text/html": [
       "<div>\n",
       "<style scoped>\n",
       "    .dataframe tbody tr th:only-of-type {\n",
       "        vertical-align: middle;\n",
       "    }\n",
       "\n",
       "    .dataframe tbody tr th {\n",
       "        vertical-align: top;\n",
       "    }\n",
       "\n",
       "    .dataframe thead th {\n",
       "        text-align: right;\n",
       "    }\n",
       "</style>\n",
       "<table border=\"1\" class=\"dataframe\">\n",
       "  <thead>\n",
       "    <tr style=\"text-align: right;\">\n",
       "      <th></th>\n",
       "      <th>user_id</th>\n",
       "      <th>business_id</th>\n",
       "      <th>rating</th>\n",
       "      <th>date</th>\n",
       "      <th>user_code</th>\n",
       "      <th>item_code</th>\n",
       "      <th>user_bias</th>\n",
       "      <th>item_bias</th>\n",
       "      <th>pred_rating</th>\n",
       "    </tr>\n",
       "  </thead>\n",
       "  <tbody>\n",
       "    <tr>\n",
       "      <th>3928452</th>\n",
       "      <td>---1lKK3aKOuomHnwAkAow</td>\n",
       "      <td>Hqs4YNST_ZHbshwyi4bnsQ</td>\n",
       "      <td>5.0</td>\n",
       "      <td>2018-10-11 23:29:57</td>\n",
       "      <td>0</td>\n",
       "      <td>54831</td>\n",
       "      <td>0.259476</td>\n",
       "      <td>0.654828</td>\n",
       "      <td>4.662702</td>\n",
       "    </tr>\n",
       "    <tr>\n",
       "      <th>2794680</th>\n",
       "      <td>--0kuuLmuYBe3Rmu0Iycww</td>\n",
       "      <td>PYe_FDw6QTbTf66WcGE_tw</td>\n",
       "      <td>2.0</td>\n",
       "      <td>2014-04-21 16:58:28</td>\n",
       "      <td>1</td>\n",
       "      <td>77193</td>\n",
       "      <td>-0.293852</td>\n",
       "      <td>0.251602</td>\n",
       "      <td>3.706148</td>\n",
       "    </tr>\n",
       "    <tr>\n",
       "      <th>3722634</th>\n",
       "      <td>--2HUmLkcNHZp0xw6AMBPg</td>\n",
       "      <td>KW9RNyBPmc77f9FsO92qYw</td>\n",
       "      <td>5.0</td>\n",
       "      <td>2018-10-04 02:02:28</td>\n",
       "      <td>2</td>\n",
       "      <td>62566</td>\n",
       "      <td>0.829727</td>\n",
       "      <td>-0.733013</td>\n",
       "      <td>3.845112</td>\n",
       "    </tr>\n",
       "    <tr>\n",
       "      <th>1213261</th>\n",
       "      <td>--2vR0DIsmQ6WfcSzKWigw</td>\n",
       "      <td>BLIJ-p5wYuAhw6Pp6mh6mw</td>\n",
       "      <td>3.0</td>\n",
       "      <td>2018-01-11 04:24:17</td>\n",
       "      <td>3</td>\n",
       "      <td>35725</td>\n",
       "      <td>0.369249</td>\n",
       "      <td>-0.343060</td>\n",
       "      <td>3.774587</td>\n",
       "    </tr>\n",
       "    <tr>\n",
       "      <th>4737894</th>\n",
       "      <td>--3WaS23LcIXtxyFULJHTA</td>\n",
       "      <td>UKrfUw8quQiQM2N9i1nH0g</td>\n",
       "      <td>4.0</td>\n",
       "      <td>2018-09-03 19:32:11</td>\n",
       "      <td>4</td>\n",
       "      <td>91051</td>\n",
       "      <td>0.180174</td>\n",
       "      <td>0.918269</td>\n",
       "      <td>4.846840</td>\n",
       "    </tr>\n",
       "  </tbody>\n",
       "</table>\n",
       "</div>"
      ],
      "text/plain": [
       "                        user_id             business_id  rating  \\\n",
       "3928452  ---1lKK3aKOuomHnwAkAow  Hqs4YNST_ZHbshwyi4bnsQ     5.0   \n",
       "2794680  --0kuuLmuYBe3Rmu0Iycww  PYe_FDw6QTbTf66WcGE_tw     2.0   \n",
       "3722634  --2HUmLkcNHZp0xw6AMBPg  KW9RNyBPmc77f9FsO92qYw     5.0   \n",
       "1213261  --2vR0DIsmQ6WfcSzKWigw  BLIJ-p5wYuAhw6Pp6mh6mw     3.0   \n",
       "4737894  --3WaS23LcIXtxyFULJHTA  UKrfUw8quQiQM2N9i1nH0g     4.0   \n",
       "\n",
       "                        date  user_code  item_code  user_bias  item_bias  \\\n",
       "3928452  2018-10-11 23:29:57          0      54831   0.259476   0.654828   \n",
       "2794680  2014-04-21 16:58:28          1      77193  -0.293852   0.251602   \n",
       "3722634  2018-10-04 02:02:28          2      62566   0.829727  -0.733013   \n",
       "1213261  2018-01-11 04:24:17          3      35725   0.369249  -0.343060   \n",
       "4737894  2018-09-03 19:32:11          4      91051   0.180174   0.918269   \n",
       "\n",
       "         pred_rating  \n",
       "3928452     4.662702  \n",
       "2794680     3.706148  \n",
       "3722634     3.845112  \n",
       "1213261     3.774587  \n",
       "4737894     4.846840  "
      ]
     },
     "execution_count": 12,
     "metadata": {},
     "output_type": "execute_result"
    }
   ],
   "source": [
    "# Making Prediction\n",
    "predictions = test.join(userBias, on = 'user_id', how = 'left')\n",
    "predictions = predictions.join(itemBias, on = 'business_id', how = 'left')\n",
    "predictions = predictions.fillna(0)\n",
    "predictions['pred_rating'] = predictions['user_bias'] + predictions['item_bias'] + overall_avg\n",
    "predictions.head()"
   ]
  },
  {
   "cell_type": "code",
   "execution_count": null,
   "metadata": {},
   "outputs": [],
   "source": []
  },
  {
   "cell_type": "code",
   "execution_count": null,
   "metadata": {},
   "outputs": [],
   "source": []
  },
  {
   "cell_type": "code",
   "execution_count": null,
   "metadata": {},
   "outputs": [],
   "source": []
  },
  {
   "cell_type": "code",
   "execution_count": null,
   "metadata": {},
   "outputs": [],
   "source": []
  },
  {
   "cell_type": "markdown",
   "metadata": {},
   "source": [
    "### Rmse overall"
   ]
  },
  {
   "cell_type": "code",
   "execution_count": 58,
   "metadata": {},
   "outputs": [
    {
     "name": "stdout",
     "output_type": "stream",
     "text": [
      "Bias baseline RMSE: 1.392\n"
     ]
    }
   ],
   "source": [
    "y_predicted = np.array(predictions['pred_rating'])\n",
    "y_actual = np.array(predictions['rating'])\n",
    "\n",
    "rmse = sqrt(mean_squared_error(y_actual, y_predicted))\n",
    "print(\"Bias baseline RMSE:\", round(rmse,3))"
   ]
  },
  {
   "cell_type": "markdown",
   "metadata": {},
   "source": [
    "### Rmse user segments"
   ]
  },
  {
   "cell_type": "code",
   "execution_count": 40,
   "metadata": {},
   "outputs": [],
   "source": [
    "inactive_users = activity[activity['label'] == \"not so active\"].drop(columns = [\"label\", \"review_count\"])\n",
    "\n",
    "inactive_pred = predictions[predictions.user_id.isin(inactive_users.user_id)]\n",
    "\n",
    "average_users = activity[activity['label'] == \"average\"].drop(columns = [\"label\", \"review_count\"])\n",
    "\n",
    "average_pred = predictions[predictions.user_id.isin(average_users.user_id)]\n",
    "\n",
    "vactive_users = activity[activity['label'] == \"very active\"].drop(columns = [\"label\", \"review_count\"])\n",
    "\n",
    "vactive_pred = predictions[predictions.user_id.isin(vactive_users.user_id)]"
   ]
  },
  {
   "cell_type": "code",
   "execution_count": 41,
   "metadata": {},
   "outputs": [
    {
     "name": "stdout",
     "output_type": "stream",
     "text": [
      "Bias baseline RMSE (not so active users): 1.437\n",
      "Bias baseline RMSE (average users): 1.357\n",
      "Bias baseline RMSE (very active users): 1.282\n"
     ]
    }
   ],
   "source": [
    "y_predicted = np.array(inactive_pred['pred_rating'])\n",
    "y_actual = np.array(inactive_pred['rating'])\n",
    "\n",
    "rmse = sqrt(mean_squared_error(y_actual, y_predicted))\n",
    "print(\"Bias baseline RMSE (not so active users):\", round(rmse,3))\n",
    "\n",
    "y_predicted = np.array(average_pred['pred_rating'])\n",
    "y_actual = np.array(average_pred['rating'])\n",
    "\n",
    "rmse = sqrt(mean_squared_error(y_actual, y_predicted))\n",
    "print(\"Bias baseline RMSE (average users):\", round(rmse,3))\n",
    "\n",
    "y_predicted = np.array(vactive_pred['pred_rating'])\n",
    "y_actual = np.array(vactive_pred['rating'])\n",
    "\n",
    "rmse = sqrt(mean_squared_error(y_actual, y_predicted))\n",
    "print(\"Bias baseline RMSE (very active users):\", round(rmse,3))"
   ]
  },
  {
   "cell_type": "markdown",
   "metadata": {},
   "source": [
    "### Rmse item segments"
   ]
  },
  {
   "cell_type": "code",
   "execution_count": 66,
   "metadata": {},
   "outputs": [],
   "source": [
    "unpopular_items = item_activity[item_activity['label'] == \"unpopular\"][\"business_id\"]\n",
    "\n",
    "unpopular_pred = predictions[predictions.business_id.isin(unpopular_items)]\n",
    "\n",
    "moderate_items = item_activity[item_activity['label'] == \"moderate\"][\"business_id\"]\n",
    "\n",
    "moderate_pred = predictions[predictions.business_id.isin(moderate_items)]\n",
    "\n",
    "popular_items = item_activity[item_activity['label'] == \"popular\"][\"business_id\"]\n",
    "\n",
    "popular_pred = predictions[predictions.business_id.isin(popular_items)]"
   ]
  },
  {
   "cell_type": "code",
   "execution_count": 67,
   "metadata": {},
   "outputs": [
    {
     "name": "stdout",
     "output_type": "stream",
     "text": [
      "Bias baseline RMSE (unpopular items): 1.641\n",
      "Bias baseline RMSE (moderate items): 1.38\n",
      "Bias baseline RMSE (popular items): 1.249\n"
     ]
    }
   ],
   "source": [
    "y_predicted = np.array(unpopular_pred['pred_rating'])\n",
    "y_actual = np.array(unpopular_pred['rating'])\n",
    "\n",
    "rmse = sqrt(mean_squared_error(y_actual, y_predicted))\n",
    "print(\"Bias baseline RMSE (unpopular items):\", round(rmse,3))\n",
    "\n",
    "y_predicted = np.array(moderate_pred['pred_rating'])\n",
    "y_actual = np.array(moderate_pred['rating'])\n",
    "\n",
    "rmse = sqrt(mean_squared_error(y_actual, y_predicted))\n",
    "print(\"Bias baseline RMSE (moderate items):\", round(rmse,3))\n",
    "\n",
    "y_predicted = np.array(popular_pred['pred_rating'])\n",
    "y_actual = np.array(popular_pred['rating'])\n",
    "\n",
    "rmse = sqrt(mean_squared_error(y_actual, y_predicted))\n",
    "print(\"Bias baseline RMSE (popular items):\", round(rmse,3))"
   ]
  },
  {
   "cell_type": "markdown",
   "metadata": {},
   "source": [
    "We observe that as the review count of users/items increases, the RMSE also decreases. This is reasonable since the baseline should be more accurate if we have more data on users/items."
   ]
  },
  {
   "cell_type": "markdown",
   "metadata": {},
   "source": [
    "# User Attributes"
   ]
  },
  {
   "cell_type": "markdown",
   "metadata": {},
   "source": [
    "Next, we use the user dataset to see if there's any user attributes that we could include when building the model."
   ]
  },
  {
   "cell_type": "code",
   "execution_count": 44,
   "metadata": {},
   "outputs": [
    {
     "name": "stderr",
     "output_type": "stream",
     "text": [
      "100%|██████████| 1637138/1637138 [00:25<00:00, 63494.83it/s]\n"
     ]
    }
   ],
   "source": [
    "line_count = len(open(\"user.json\").readlines())\n",
    "user_ids, yelping_sinces = [], []\n",
    "# usefuls, funnys, cools = [], [], []\n",
    "fanss, elites = [], []\n",
    "compliment_hots, compliment_mores, compliment_profiles, compliment_cutes = [], [], [], []\n",
    "compliment_lists, compliment_notes, compliment_plains, compliment_cools = [], [], [], []\n",
    "compliment_funnys, compliment_writers, compliment_photos = [], [], []\n",
    "with open(\"user.json\") as f:\n",
    "    for line in tqdm(f, total=line_count):\n",
    "        blob = json.loads(line)\n",
    "        user_ids += [blob[\"user_id\"]]\n",
    "        #review_counts += [blob[\"review_count\"]]\n",
    "        yelping_sinces += [blob[\"yelping_since\"]]\n",
    "        fanss += [blob[\"fans\"]] \n",
    "        elites += [blob[\"elite\"]]\n",
    "        compliment_hots += [blob[\"compliment_hot\"]]\n",
    "        compliment_mores += [blob[\"compliment_more\"]]\n",
    "        compliment_profiles += [blob[\"compliment_profile\"]]\n",
    "        compliment_cutes += [blob[\"compliment_cute\"]]\n",
    "        compliment_lists += [blob[\"compliment_list\"]]\n",
    "        compliment_notes += [blob[\"compliment_note\"]]\n",
    "        compliment_plains += [blob[\"compliment_plain\"]]\n",
    "        compliment_cools += [blob[\"compliment_cool\"]]\n",
    "        compliment_funnys += [blob[\"compliment_funny\"]]\n",
    "        compliment_writers += [blob[\"compliment_writer\"]]\n",
    "        compliment_photos += [blob[\"compliment_photos\"]]\n",
    "\n",
    "users = pd.DataFrame(\n",
    "{\"user_id\": user_ids, \"yelping_since\": yelping_sinces, \"fans\": fanss, \"elite\": elites, \n",
    "\"compliment_hot\": compliment_hots, \"compliment_more\":compliment_mores, \"compliment_profile\": compliment_profiles,\n",
    "\"compliment_cute\":compliment_cutes, \"compliment_list\":compliment_lists,\n",
    "\"compliment_note\": compliment_notes, \"compliment_plain\": compliment_plains,\n",
    "\"compliment_cool\": compliment_cools, \"compliment_funny\": compliment_funnys,\n",
    "\"compliment_writer\": compliment_writers, \"compliment_photos\": compliment_photos}\n",
    ")"
   ]
  },
  {
   "cell_type": "code",
   "execution_count": 45,
   "metadata": {},
   "outputs": [
    {
     "data": {
      "text/html": [
       "<div>\n",
       "<style scoped>\n",
       "    .dataframe tbody tr th:only-of-type {\n",
       "        vertical-align: middle;\n",
       "    }\n",
       "\n",
       "    .dataframe tbody tr th {\n",
       "        vertical-align: top;\n",
       "    }\n",
       "\n",
       "    .dataframe thead th {\n",
       "        text-align: right;\n",
       "    }\n",
       "</style>\n",
       "<table border=\"1\" class=\"dataframe\">\n",
       "  <thead>\n",
       "    <tr style=\"text-align: right;\">\n",
       "      <th></th>\n",
       "      <th>fans</th>\n",
       "      <th>compliment_hot</th>\n",
       "      <th>compliment_more</th>\n",
       "      <th>compliment_profile</th>\n",
       "      <th>compliment_cute</th>\n",
       "      <th>compliment_list</th>\n",
       "      <th>compliment_note</th>\n",
       "      <th>compliment_plain</th>\n",
       "      <th>compliment_cool</th>\n",
       "      <th>compliment_funny</th>\n",
       "      <th>compliment_writer</th>\n",
       "      <th>compliment_photos</th>\n",
       "    </tr>\n",
       "  </thead>\n",
       "  <tbody>\n",
       "    <tr>\n",
       "      <th>count</th>\n",
       "      <td>1.637138e+06</td>\n",
       "      <td>1.637138e+06</td>\n",
       "      <td>1.637138e+06</td>\n",
       "      <td>1.637138e+06</td>\n",
       "      <td>1.637138e+06</td>\n",
       "      <td>1.637138e+06</td>\n",
       "      <td>1.637138e+06</td>\n",
       "      <td>1.637138e+06</td>\n",
       "      <td>1.637138e+06</td>\n",
       "      <td>1.637138e+06</td>\n",
       "      <td>1.637138e+06</td>\n",
       "      <td>1.637138e+06</td>\n",
       "    </tr>\n",
       "    <tr>\n",
       "      <th>mean</th>\n",
       "      <td>1.465646e+00</td>\n",
       "      <td>2.242225e+00</td>\n",
       "      <td>3.325951e-01</td>\n",
       "      <td>2.135135e-01</td>\n",
       "      <td>1.902082e-01</td>\n",
       "      <td>8.358489e-02</td>\n",
       "      <td>1.503944e+00</td>\n",
       "      <td>3.090273e+00</td>\n",
       "      <td>3.106818e+00</td>\n",
       "      <td>3.106818e+00</td>\n",
       "      <td>1.165329e+00</td>\n",
       "      <td>1.138432e+00</td>\n",
       "    </tr>\n",
       "    <tr>\n",
       "      <th>std</th>\n",
       "      <td>1.568317e+01</td>\n",
       "      <td>8.021821e+01</td>\n",
       "      <td>1.367850e+01</td>\n",
       "      <td>1.626675e+01</td>\n",
       "      <td>1.269798e+01</td>\n",
       "      <td>1.089557e+01</td>\n",
       "      <td>6.327596e+01</td>\n",
       "      <td>9.211418e+01</td>\n",
       "      <td>8.823263e+01</td>\n",
       "      <td>8.823263e+01</td>\n",
       "      <td>3.268262e+01</td>\n",
       "      <td>9.549144e+01</td>\n",
       "    </tr>\n",
       "    <tr>\n",
       "      <th>min</th>\n",
       "      <td>0.000000e+00</td>\n",
       "      <td>0.000000e+00</td>\n",
       "      <td>0.000000e+00</td>\n",
       "      <td>0.000000e+00</td>\n",
       "      <td>0.000000e+00</td>\n",
       "      <td>0.000000e+00</td>\n",
       "      <td>0.000000e+00</td>\n",
       "      <td>0.000000e+00</td>\n",
       "      <td>0.000000e+00</td>\n",
       "      <td>0.000000e+00</td>\n",
       "      <td>0.000000e+00</td>\n",
       "      <td>0.000000e+00</td>\n",
       "    </tr>\n",
       "    <tr>\n",
       "      <th>25%</th>\n",
       "      <td>0.000000e+00</td>\n",
       "      <td>0.000000e+00</td>\n",
       "      <td>0.000000e+00</td>\n",
       "      <td>0.000000e+00</td>\n",
       "      <td>0.000000e+00</td>\n",
       "      <td>0.000000e+00</td>\n",
       "      <td>0.000000e+00</td>\n",
       "      <td>0.000000e+00</td>\n",
       "      <td>0.000000e+00</td>\n",
       "      <td>0.000000e+00</td>\n",
       "      <td>0.000000e+00</td>\n",
       "      <td>0.000000e+00</td>\n",
       "    </tr>\n",
       "    <tr>\n",
       "      <th>50%</th>\n",
       "      <td>0.000000e+00</td>\n",
       "      <td>0.000000e+00</td>\n",
       "      <td>0.000000e+00</td>\n",
       "      <td>0.000000e+00</td>\n",
       "      <td>0.000000e+00</td>\n",
       "      <td>0.000000e+00</td>\n",
       "      <td>0.000000e+00</td>\n",
       "      <td>0.000000e+00</td>\n",
       "      <td>0.000000e+00</td>\n",
       "      <td>0.000000e+00</td>\n",
       "      <td>0.000000e+00</td>\n",
       "      <td>0.000000e+00</td>\n",
       "    </tr>\n",
       "    <tr>\n",
       "      <th>75%</th>\n",
       "      <td>0.000000e+00</td>\n",
       "      <td>0.000000e+00</td>\n",
       "      <td>0.000000e+00</td>\n",
       "      <td>0.000000e+00</td>\n",
       "      <td>0.000000e+00</td>\n",
       "      <td>0.000000e+00</td>\n",
       "      <td>0.000000e+00</td>\n",
       "      <td>0.000000e+00</td>\n",
       "      <td>0.000000e+00</td>\n",
       "      <td>0.000000e+00</td>\n",
       "      <td>0.000000e+00</td>\n",
       "      <td>0.000000e+00</td>\n",
       "    </tr>\n",
       "    <tr>\n",
       "      <th>max</th>\n",
       "      <td>9.538000e+03</td>\n",
       "      <td>3.416700e+04</td>\n",
       "      <td>1.350000e+04</td>\n",
       "      <td>1.417300e+04</td>\n",
       "      <td>1.365400e+04</td>\n",
       "      <td>1.266900e+04</td>\n",
       "      <td>5.783300e+04</td>\n",
       "      <td>5.210300e+04</td>\n",
       "      <td>3.226600e+04</td>\n",
       "      <td>3.226600e+04</td>\n",
       "      <td>1.544200e+04</td>\n",
       "      <td>8.260200e+04</td>\n",
       "    </tr>\n",
       "  </tbody>\n",
       "</table>\n",
       "</div>"
      ],
      "text/plain": [
       "               fans  compliment_hot  compliment_more  compliment_profile  \\\n",
       "count  1.637138e+06    1.637138e+06     1.637138e+06        1.637138e+06   \n",
       "mean   1.465646e+00    2.242225e+00     3.325951e-01        2.135135e-01   \n",
       "std    1.568317e+01    8.021821e+01     1.367850e+01        1.626675e+01   \n",
       "min    0.000000e+00    0.000000e+00     0.000000e+00        0.000000e+00   \n",
       "25%    0.000000e+00    0.000000e+00     0.000000e+00        0.000000e+00   \n",
       "50%    0.000000e+00    0.000000e+00     0.000000e+00        0.000000e+00   \n",
       "75%    0.000000e+00    0.000000e+00     0.000000e+00        0.000000e+00   \n",
       "max    9.538000e+03    3.416700e+04     1.350000e+04        1.417300e+04   \n",
       "\n",
       "       compliment_cute  compliment_list  compliment_note  compliment_plain  \\\n",
       "count     1.637138e+06     1.637138e+06     1.637138e+06      1.637138e+06   \n",
       "mean      1.902082e-01     8.358489e-02     1.503944e+00      3.090273e+00   \n",
       "std       1.269798e+01     1.089557e+01     6.327596e+01      9.211418e+01   \n",
       "min       0.000000e+00     0.000000e+00     0.000000e+00      0.000000e+00   \n",
       "25%       0.000000e+00     0.000000e+00     0.000000e+00      0.000000e+00   \n",
       "50%       0.000000e+00     0.000000e+00     0.000000e+00      0.000000e+00   \n",
       "75%       0.000000e+00     0.000000e+00     0.000000e+00      0.000000e+00   \n",
       "max       1.365400e+04     1.266900e+04     5.783300e+04      5.210300e+04   \n",
       "\n",
       "       compliment_cool  compliment_funny  compliment_writer  compliment_photos  \n",
       "count     1.637138e+06      1.637138e+06       1.637138e+06       1.637138e+06  \n",
       "mean      3.106818e+00      3.106818e+00       1.165329e+00       1.138432e+00  \n",
       "std       8.823263e+01      8.823263e+01       3.268262e+01       9.549144e+01  \n",
       "min       0.000000e+00      0.000000e+00       0.000000e+00       0.000000e+00  \n",
       "25%       0.000000e+00      0.000000e+00       0.000000e+00       0.000000e+00  \n",
       "50%       0.000000e+00      0.000000e+00       0.000000e+00       0.000000e+00  \n",
       "75%       0.000000e+00      0.000000e+00       0.000000e+00       0.000000e+00  \n",
       "max       3.226600e+04      3.226600e+04       1.544200e+04       8.260200e+04  "
      ]
     },
     "execution_count": 45,
     "metadata": {},
     "output_type": "execute_result"
    }
   ],
   "source": [
    "users.describe()"
   ]
  },
  {
   "cell_type": "markdown",
   "metadata": {},
   "source": [
    "For all numerical variables, the 75th percentile is 0. Therefore, we do not include those as user attributes when we build the model."
   ]
  },
  {
   "cell_type": "code",
   "execution_count": 46,
   "metadata": {},
   "outputs": [
    {
     "name": "stdout",
     "output_type": "stream",
     "text": [
      "Number of NAs: 1637136\n",
      "Total number of observations: 1637138\n"
     ]
    }
   ],
   "source": [
    "# the 'elite' column\n",
    "# replace blank value with nan\n",
    "users['elite'] = users['elite'].replace(r'^\\s*$', np.nan, regex=True).head()\n",
    "\n",
    "# count number of nan in 'elite'\n",
    "print(\"Number of NAs:\", users['elite'].isna().sum())\n",
    "print(\"Total number of observations:\", len(users['elite']))"
   ]
  },
  {
   "cell_type": "markdown",
   "metadata": {},
   "source": [
    "Since almost 100% of values in the `elite` column are missing, we decide to exclude it from our model."
   ]
  },
  {
   "cell_type": "code",
   "execution_count": 47,
   "metadata": {},
   "outputs": [],
   "source": [
    "# Compute number of years that a user has been using Yelp\n",
    "users['year'] = 2019 - pd.DatetimeIndex(users['yelping_since']).year"
   ]
  },
  {
   "cell_type": "code",
   "execution_count": 69,
   "metadata": {},
   "outputs": [
    {
     "data": {
      "text/html": [
       "<div>\n",
       "<style scoped>\n",
       "    .dataframe tbody tr th:only-of-type {\n",
       "        vertical-align: middle;\n",
       "    }\n",
       "\n",
       "    .dataframe tbody tr th {\n",
       "        vertical-align: top;\n",
       "    }\n",
       "\n",
       "    .dataframe thead th {\n",
       "        text-align: right;\n",
       "    }\n",
       "</style>\n",
       "<table border=\"1\" class=\"dataframe\">\n",
       "  <thead>\n",
       "    <tr style=\"text-align: right;\">\n",
       "      <th></th>\n",
       "      <th>user_id</th>\n",
       "      <th>yelping_since</th>\n",
       "      <th>fans</th>\n",
       "      <th>elite</th>\n",
       "      <th>compliment_hot</th>\n",
       "      <th>compliment_more</th>\n",
       "      <th>compliment_profile</th>\n",
       "      <th>compliment_cute</th>\n",
       "      <th>compliment_list</th>\n",
       "      <th>compliment_note</th>\n",
       "      <th>compliment_plain</th>\n",
       "      <th>compliment_cool</th>\n",
       "      <th>compliment_funny</th>\n",
       "      <th>compliment_writer</th>\n",
       "      <th>compliment_photos</th>\n",
       "      <th>year</th>\n",
       "    </tr>\n",
       "  </thead>\n",
       "  <tbody>\n",
       "    <tr>\n",
       "      <th>0</th>\n",
       "      <td>l6BmjZMeQD3rDxWUbiAiow</td>\n",
       "      <td>2013-10-08 23:11:33</td>\n",
       "      <td>5</td>\n",
       "      <td>2015,2016,2017</td>\n",
       "      <td>2</td>\n",
       "      <td>0</td>\n",
       "      <td>0</td>\n",
       "      <td>0</td>\n",
       "      <td>0</td>\n",
       "      <td>1</td>\n",
       "      <td>1</td>\n",
       "      <td>1</td>\n",
       "      <td>1</td>\n",
       "      <td>2</td>\n",
       "      <td>0</td>\n",
       "      <td>6</td>\n",
       "    </tr>\n",
       "    <tr>\n",
       "      <th>1</th>\n",
       "      <td>4XChL029mKr5hydo79Ljxg</td>\n",
       "      <td>2013-02-21 22:29:06</td>\n",
       "      <td>4</td>\n",
       "      <td></td>\n",
       "      <td>1</td>\n",
       "      <td>0</td>\n",
       "      <td>0</td>\n",
       "      <td>0</td>\n",
       "      <td>0</td>\n",
       "      <td>0</td>\n",
       "      <td>0</td>\n",
       "      <td>1</td>\n",
       "      <td>1</td>\n",
       "      <td>0</td>\n",
       "      <td>0</td>\n",
       "      <td>6</td>\n",
       "    </tr>\n",
       "    <tr>\n",
       "      <th>2</th>\n",
       "      <td>bc8C_eETBWL0olvFSJJd0w</td>\n",
       "      <td>2013-10-04 00:16:10</td>\n",
       "      <td>0</td>\n",
       "      <td></td>\n",
       "      <td>0</td>\n",
       "      <td>0</td>\n",
       "      <td>0</td>\n",
       "      <td>0</td>\n",
       "      <td>0</td>\n",
       "      <td>1</td>\n",
       "      <td>0</td>\n",
       "      <td>0</td>\n",
       "      <td>0</td>\n",
       "      <td>0</td>\n",
       "      <td>0</td>\n",
       "      <td>6</td>\n",
       "    </tr>\n",
       "    <tr>\n",
       "      <th>3</th>\n",
       "      <td>dD0gZpBctWGdWo9WlGuhlA</td>\n",
       "      <td>2014-05-22 15:57:30</td>\n",
       "      <td>5</td>\n",
       "      <td></td>\n",
       "      <td>1</td>\n",
       "      <td>0</td>\n",
       "      <td>0</td>\n",
       "      <td>0</td>\n",
       "      <td>0</td>\n",
       "      <td>0</td>\n",
       "      <td>2</td>\n",
       "      <td>0</td>\n",
       "      <td>0</td>\n",
       "      <td>1</td>\n",
       "      <td>0</td>\n",
       "      <td>5</td>\n",
       "    </tr>\n",
       "    <tr>\n",
       "      <th>4</th>\n",
       "      <td>MM4RJAeH6yuaN8oZDSt0RA</td>\n",
       "      <td>2013-10-23 07:02:50</td>\n",
       "      <td>39</td>\n",
       "      <td>2015,2016,2017,2018</td>\n",
       "      <td>28</td>\n",
       "      <td>1</td>\n",
       "      <td>0</td>\n",
       "      <td>0</td>\n",
       "      <td>1</td>\n",
       "      <td>16</td>\n",
       "      <td>57</td>\n",
       "      <td>80</td>\n",
       "      <td>80</td>\n",
       "      <td>25</td>\n",
       "      <td>5</td>\n",
       "      <td>6</td>\n",
       "    </tr>\n",
       "  </tbody>\n",
       "</table>\n",
       "</div>"
      ],
      "text/plain": [
       "                  user_id        yelping_since  fans                elite  \\\n",
       "0  l6BmjZMeQD3rDxWUbiAiow  2013-10-08 23:11:33     5       2015,2016,2017   \n",
       "1  4XChL029mKr5hydo79Ljxg  2013-02-21 22:29:06     4                        \n",
       "2  bc8C_eETBWL0olvFSJJd0w  2013-10-04 00:16:10     0                        \n",
       "3  dD0gZpBctWGdWo9WlGuhlA  2014-05-22 15:57:30     5                        \n",
       "4  MM4RJAeH6yuaN8oZDSt0RA  2013-10-23 07:02:50    39  2015,2016,2017,2018   \n",
       "\n",
       "   compliment_hot  compliment_more  compliment_profile  compliment_cute  \\\n",
       "0               2                0                   0                0   \n",
       "1               1                0                   0                0   \n",
       "2               0                0                   0                0   \n",
       "3               1                0                   0                0   \n",
       "4              28                1                   0                0   \n",
       "\n",
       "   compliment_list  compliment_note  compliment_plain  compliment_cool  \\\n",
       "0                0                1                 1                1   \n",
       "1                0                0                 0                1   \n",
       "2                0                1                 0                0   \n",
       "3                0                0                 2                0   \n",
       "4                1               16                57               80   \n",
       "\n",
       "   compliment_funny  compliment_writer  compliment_photos  year  \n",
       "0                 1                  2                  0     6  \n",
       "1                 1                  0                  0     6  \n",
       "2                 0                  0                  0     6  \n",
       "3                 0                  1                  0     5  \n",
       "4                80                 25                  5     6  "
      ]
     },
     "execution_count": 69,
     "metadata": {},
     "output_type": "execute_result"
    }
   ],
   "source": [
    "users.head()"
   ]
  },
  {
   "cell_type": "code",
   "execution_count": 48,
   "metadata": {},
   "outputs": [
    {
     "data": {
      "text/html": [
       "<div>\n",
       "<style scoped>\n",
       "    .dataframe tbody tr th:only-of-type {\n",
       "        vertical-align: middle;\n",
       "    }\n",
       "\n",
       "    .dataframe tbody tr th {\n",
       "        vertical-align: top;\n",
       "    }\n",
       "\n",
       "    .dataframe thead th {\n",
       "        text-align: right;\n",
       "    }\n",
       "</style>\n",
       "<table border=\"1\" class=\"dataframe\">\n",
       "  <thead>\n",
       "    <tr style=\"text-align: right;\">\n",
       "      <th></th>\n",
       "      <th>user_id</th>\n",
       "      <th>year</th>\n",
       "    </tr>\n",
       "  </thead>\n",
       "  <tbody>\n",
       "    <tr>\n",
       "      <th>0</th>\n",
       "      <td>l6BmjZMeQD3rDxWUbiAiow</td>\n",
       "      <td>6</td>\n",
       "    </tr>\n",
       "    <tr>\n",
       "      <th>1</th>\n",
       "      <td>4XChL029mKr5hydo79Ljxg</td>\n",
       "      <td>6</td>\n",
       "    </tr>\n",
       "    <tr>\n",
       "      <th>2</th>\n",
       "      <td>bc8C_eETBWL0olvFSJJd0w</td>\n",
       "      <td>6</td>\n",
       "    </tr>\n",
       "    <tr>\n",
       "      <th>3</th>\n",
       "      <td>dD0gZpBctWGdWo9WlGuhlA</td>\n",
       "      <td>5</td>\n",
       "    </tr>\n",
       "    <tr>\n",
       "      <th>4</th>\n",
       "      <td>MM4RJAeH6yuaN8oZDSt0RA</td>\n",
       "      <td>6</td>\n",
       "    </tr>\n",
       "  </tbody>\n",
       "</table>\n",
       "</div>"
      ],
      "text/plain": [
       "                  user_id  year\n",
       "0  l6BmjZMeQD3rDxWUbiAiow     6\n",
       "1  4XChL029mKr5hydo79Ljxg     6\n",
       "2  bc8C_eETBWL0olvFSJJd0w     6\n",
       "3  dD0gZpBctWGdWo9WlGuhlA     5\n",
       "4  MM4RJAeH6yuaN8oZDSt0RA     6"
      ]
     },
     "execution_count": 48,
     "metadata": {},
     "output_type": "execute_result"
    }
   ],
   "source": [
    "# User attributes\n",
    "user_attr = users[['user_id', 'year']] \n",
    "user_attr.head()"
   ]
  },
  {
   "cell_type": "code",
   "execution_count": null,
   "metadata": {},
   "outputs": [],
   "source": []
  }
 ],
 "metadata": {
  "kernelspec": {
   "display_name": "Python 3",
   "language": "python",
   "name": "python3"
  },
  "language_info": {
   "codemirror_mode": {
    "name": "ipython",
    "version": 3
   },
   "file_extension": ".py",
   "mimetype": "text/x-python",
   "name": "python",
   "nbconvert_exporter": "python",
   "pygments_lexer": "ipython3",
   "version": "3.7.3"
  }
 },
 "nbformat": 4,
 "nbformat_minor": 2
}
