{
 "cells": [
  {
   "cell_type": "code",
   "execution_count": 1,
   "metadata": {},
   "outputs": [
    {
     "name": "stderr",
     "output_type": "stream",
     "text": [
      "/Users/jessie/anaconda3/lib/python3.7/site-packages/lightfm/_lightfm_fast.py:9: UserWarning:\n",
      "\n",
      "LightFM was compiled without OpenMP support. Only a single thread will be used.\n",
      "\n"
     ]
    }
   ],
   "source": [
    "import findspark\n",
    "findspark.init()\n",
    "from pyspark import SparkContext, SparkConf\n",
    "from pyspark.sql import SQLContext, SparkSession\n",
    "from pyspark.sql.functions import col\n",
    "from pyspark.ml.tuning import CrossValidator, ParamGridBuilder\n",
    "from pyspark.ml.evaluation import RegressionEvaluator\n",
    "from pyspark.ml.recommendation import ALS\n",
    "from pyspark.mllib.evaluation import RankingMetrics\n",
    "import plotly.express as px\n",
    "import random \n",
    "import time\n",
    "import pandas as pd\n",
    "import matplotlib.pyplot as plt\n",
    "from tqdm import tqdm\n",
    "import json\n",
    "\n",
    "# for NDCG\n",
    "from pyspark.sql import Window\n",
    "from pyspark.sql.functions import col\n",
    "from pyspark.sql.functions import expr\n",
    "import pyspark.sql.functions as F\n",
    "\n",
    "# for lightFM\n",
    "from lightfm import LightFM\n",
    "from lightfm.data import Dataset\n",
    "from lightfm.evaluation import precision_at_k\n",
    "from lightfm.evaluation import auc_score\n",
    "\n",
    "import os\n",
    "import zipfile\n",
    "import requests\n",
    "\n",
    "import numpy as np"
   ]
  },
  {
   "cell_type": "code",
   "execution_count": 2,
   "metadata": {},
   "outputs": [],
   "source": [
    "# import data\n",
    "users = pd.read_pickle('users.pkl')\n",
    "ratings = pd.read_pickle('ratings.pkl')\n",
    "business = pd.read_pickle('business.pkl')"
   ]
  },
  {
   "cell_type": "code",
   "execution_count": 3,
   "metadata": {
    "scrolled": true
   },
   "outputs": [],
   "source": [
    "# transform users feature\n",
    "users['year']=2019-pd.DatetimeIndex(users['yelping_since']).year"
   ]
  },
  {
   "cell_type": "code",
   "execution_count": 4,
   "metadata": {},
   "outputs": [
    {
     "name": "stdout",
     "output_type": "stream",
     "text": [
      "number of active users:  286130\n",
      "number of business appears in active users:  185723\n",
      "number of ratings made by active users:  4538272\n"
     ]
    }
   ],
   "source": [
    "# select active ratings\n",
    "user_counts = ratings[\"user_id\"].value_counts()\n",
    "active_users = user_counts.loc[user_counts >= 5].index.tolist()\n",
    "\n",
    "act_ratings=ratings.loc[ratings['user_id'].isin(active_users)]\n",
    "act_business=business.loc[business['business_id'].isin(act_ratings['business_id'])]\n",
    "act_users=users.loc[users['user_id'].isin(act_ratings['user_id'])]\n",
    "print(\"number of active users: \",len(act_users))\n",
    "print(\"number of business appears in active users: \",len(act_business))\n",
    "print(\"number of ratings made by active users: \",len(act_ratings))"
   ]
  },
  {
   "cell_type": "code",
   "execution_count": 5,
   "metadata": {},
   "outputs": [
    {
     "name": "stdout",
     "output_type": "stream",
     "text": [
      "number of users in the training:  286130\n",
      "number of business in the training:  183637\n",
      "number of ratings in the training:  4252142\n",
      "number of users in the test:  286130\n",
      "number of business in the test:  45788\n",
      "number of ratings in the test:  286130\n"
     ]
    }
   ],
   "source": [
    "# select the most recent rating as test, the rest as training\n",
    "\n",
    "ratings_test = act_ratings.groupby('user_id').tail(1)\n",
    "ratings_training = act_ratings.drop(ratings_test.index)\n",
    "\n",
    "# no need to build feature interactions seperatly, can skip this part\n",
    "business_training=business.loc[business['business_id'].isin(ratings_training['business_id'])]\n",
    "business_test=business.loc[business['business_id'].isin(ratings_test['business_id'])]\n",
    "\n",
    "users_training=users.loc[users['user_id'].isin(ratings_training['user_id'])]\n",
    "users_test=users.loc[users['user_id'].isin(ratings_test['user_id'])]\n",
    "\n",
    "print(\"number of users in the training: \",len(users_training))\n",
    "print(\"number of business in the training: \",len(business_training))\n",
    "print(\"number of ratings in the training: \",len(ratings_training))\n",
    "\n",
    "print(\"number of users in the test: \",len(users_test))\n",
    "print(\"number of business in the test: \",len(business_test))\n",
    "print(\"number of ratings in the test: \",len(ratings_test))"
   ]
  },
  {
   "cell_type": "code",
   "execution_count": 6,
   "metadata": {},
   "outputs": [],
   "source": [
    "# reset the index \n",
    "act_ratings = act_ratings.reset_index(drop=True)\n",
    "act_business = act_business.reset_index(drop=True)\n",
    "act_users = act_users.reset_index(drop=True)\n",
    "\n",
    "ratings_training = ratings_training.reset_index(drop=True)"
   ]
  },
  {
   "cell_type": "code",
   "execution_count": 7,
   "metadata": {},
   "outputs": [],
   "source": [
    "# build mapping using whole dataset\n",
    "dataset = Dataset()\n",
    "dataset.fit((act_ratings['user_id']),\n",
    "            (act_ratings['business_id']))\n",
    "dataset.fit_partial(items=(act_business['business_id']),\n",
    "                    item_features = (act_business['stars']))\n",
    "\n",
    "dataset.fit_partial(items=(act_business['business_id']),\n",
    "                    item_features = (act_business['state']))\n",
    "\n",
    "dataset.fit_partial(items=(act_business['business_id']),\n",
    "                    item_features = (act_business['review_count']))\n",
    "\n",
    "dataset.fit_partial(users=(act_users['user_id']),\n",
    "                    user_features = (act_users['year']))\n",
    "\n"
   ]
  },
  {
   "cell_type": "code",
   "execution_count": 8,
   "metadata": {
    "scrolled": true
   },
   "outputs": [
    {
     "name": "stdout",
     "output_type": "stream",
     "text": [
      "<286130x185723 sparse matrix of type '<class 'numpy.int32'>'\n",
      "\twith 4252142 stored elements in COOrdinate format>\n",
      "<185723x186942 sparse matrix of type '<class 'numpy.float32'>'\n",
      "\twith 734110 stored elements in Compressed Sparse Row format>\n",
      "<286130x286145 sparse matrix of type '<class 'numpy.float32'>'\n",
      "\twith 572260 stored elements in Compressed Sparse Row format>\n"
     ]
    }
   ],
   "source": [
    "# build rating interactions for training\n",
    "# build feature interactions for both training and test\n",
    "\n",
    "(interactions_training, weights) = dataset.build_interactions((ratings_training['user_id'][i],ratings_training['business_id'][i]) \n",
    "                                                     for i in range(len(ratings_training)))\n",
    "\n",
    "item_features = dataset.build_item_features(((act_business['business_id'][i], [act_business['stars'][i],\n",
    "                             act_business['state'][i],act_business['review_count'][i]])\n",
    "                                              for i in range(len(act_business))))\n",
    "\n",
    "user_features = dataset.build_user_features(((act_users['user_id'][i], [act_users['year'][i]])\n",
    "                                              for i in range(len(act_users))))\n",
    "\n",
    "print(repr(interactions_training))\n",
    "print(repr(item_features))\n",
    "print(repr(user_features))"
   ]
  },
  {
   "cell_type": "markdown",
   "metadata": {},
   "source": [
    "### fit model1 - FM with features"
   ]
  },
  {
   "cell_type": "code",
   "execution_count": 9,
   "metadata": {},
   "outputs": [
    {
     "data": {
      "text/plain": [
       "<lightfm.lightfm.LightFM at 0x1aac513588>"
      ]
     },
     "execution_count": 9,
     "metadata": {},
     "output_type": "execute_result"
    }
   ],
   "source": [
    "model1 = LightFM(loss='warp',no_components=30, item_alpha=0.0001, user_alpha=0.0001)\n",
    "model1.fit(interactions_training,epochs=20,item_features=item_features,user_features=user_features)"
   ]
  },
  {
   "cell_type": "markdown",
   "metadata": {},
   "source": [
    "### fit model2 - MF (FM without features)"
   ]
  },
  {
   "cell_type": "code",
   "execution_count": 10,
   "metadata": {},
   "outputs": [
    {
     "data": {
      "text/plain": [
       "<lightfm.lightfm.LightFM at 0x1abe326400>"
      ]
     },
     "execution_count": 10,
     "metadata": {},
     "output_type": "execute_result"
    }
   ],
   "source": [
    "model2 = LightFM(no_components=30)\n",
    "model2.fit(interactions_training,epochs=20)"
   ]
  },
  {
   "cell_type": "markdown",
   "metadata": {},
   "source": [
    "### build interactions for test"
   ]
  },
  {
   "cell_type": "code",
   "execution_count": 12,
   "metadata": {},
   "outputs": [],
   "source": [
    "# reset the index \n",
    "ratings_test = ratings_test.reset_index(drop=True)"
   ]
  },
  {
   "cell_type": "code",
   "execution_count": 13,
   "metadata": {},
   "outputs": [
    {
     "name": "stdout",
     "output_type": "stream",
     "text": [
      "<286130x185723 sparse matrix of type '<class 'numpy.int32'>'\n",
      "\twith 286130 stored elements in COOrdinate format>\n"
     ]
    }
   ],
   "source": [
    "# build rating interactions for test\n",
    "\n",
    "(interactions_test, weights) = dataset.build_interactions((ratings_test['user_id'][i],ratings_test['business_id'][i]) \n",
    "                                                     for i in range(len(ratings_test)))\n",
    "\n",
    "\n",
    "print(repr(interactions_test))\n"
   ]
  },
  {
   "cell_type": "markdown",
   "metadata": {},
   "source": [
    "### evaluate results"
   ]
  },
  {
   "cell_type": "code",
   "execution_count": 14,
   "metadata": {
    "scrolled": false
   },
   "outputs": [
    {
     "name": "stdout",
     "output_type": "stream",
     "text": [
      "0.00067521754\n",
      "7.7587116e-05\n"
     ]
    }
   ],
   "source": [
    "# precision at 5\n",
    "FM_precision_overall = precision_at_k(model1,interactions_test, train_interactions = interactions_training, check_intersections=False,\n",
    "                                      item_features=item_features, user_features=user_features,k=5).mean()\n",
    "print(FM_precision_overall)\n",
    "\n",
    "BL_precision_overall = precision_at_k(model2,interactions_test,train_interactions = interactions_training, check_intersections=False, k=5).mean()\n",
    "print(BL_precision_overall)"
   ]
  },
  {
   "cell_type": "code",
   "execution_count": 15,
   "metadata": {},
   "outputs": [
    {
     "name": "stdout",
     "output_type": "stream",
     "text": [
      "0.94939375\n",
      "0.8178871\n"
     ]
    }
   ],
   "source": [
    "# auc\n",
    "FM_auc_overall = auc_score(model1,interactions_test,item_features=item_features,user_features=user_features,\n",
    "                          train_interactions = interactions_training, check_intersections=False).mean()\n",
    "print(FM_auc_overall)\n",
    "\n",
    "BL_auc_overall = auc_score(model2,interactions_test, train_interactions = interactions_training, check_intersections=False,).mean()\n",
    "print(BL_auc_overall)"
   ]
  }
 ],
 "metadata": {
  "kernelspec": {
   "display_name": "Python 3",
   "language": "python",
   "name": "python3"
  },
  "language_info": {
   "codemirror_mode": {
    "name": "ipython",
    "version": 3
   },
   "file_extension": ".py",
   "mimetype": "text/x-python",
   "name": "python",
   "nbconvert_exporter": "python",
   "pygments_lexer": "ipython3",
   "version": "3.7.3"
  }
 },
 "nbformat": 4,
 "nbformat_minor": 2
}
